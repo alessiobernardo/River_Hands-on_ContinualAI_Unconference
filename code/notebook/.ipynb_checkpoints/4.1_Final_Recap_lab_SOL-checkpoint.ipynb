{
 "cells": [
  {
   "cell_type": "markdown",
   "metadata": {},
   "source": [
    "# Final Recap Lab - Solution\n",
    "---\n",
    "\n",
    "## Using the KDDCup dataset, find the best SML model"
   ]
  },
  {
   "cell_type": "code",
   "execution_count": 1,
   "metadata": {},
   "outputs": [],
   "source": [
    "import matplotlib.pyplot as plt\n",
    "import numpy as np\n",
    "import pandas as pd"
   ]
  },
  {
   "cell_type": "markdown",
   "metadata": {},
   "source": [
    "The KDDCup intrusion detection data stream records intrusions simulated in a military network environment. The task is to classify network traffic into **normal** (80.31% of the cases) or some kind of **intrusion** (19.69% of the cases) described by *41 features*, of which *34 numeric* and *7 nominal*. The problem of temporal dependence is particularly evident here. Inspecting the raw stream confirms that there are time periods of intrusions rather than single instances of intrusions.\n",
    "The *7 nominal* attributes are:\n",
    "- protocol_type\n",
    "- service\n",
    "- flag\n",
    "- land\n",
    "- logged_in\n",
    "- is_host_login\n",
    "- is_guest_login\n",
    "\n",
    "**Class:** `class` | 0: normal, 1: intrusion\n",
    " \n",
    "**Samples:** 494021\n"
   ]
  },
  {
   "cell_type": "code",
   "execution_count": 2,
   "metadata": {},
   "outputs": [
    {
     "data": {
      "text/plain": [
       "duration                         int64\n",
       "protocol_type                   object\n",
       "service                         object\n",
       "flag                            object\n",
       "src_bytes                        int64\n",
       "dst_bytes                        int64\n",
       "land                             int64\n",
       "wrong_fragment                   int64\n",
       "urgent                           int64\n",
       "hot                              int64\n",
       "num_failed_logins                int64\n",
       "logged_in                        int64\n",
       "num_compromised                  int64\n",
       "root_shell                       int64\n",
       "su_attempted                     int64\n",
       "num_root                         int64\n",
       "num_file_creations               int64\n",
       "num_shells                       int64\n",
       "num_access_files                 int64\n",
       "num_outbound_cmds                int64\n",
       "is_host_login                    int64\n",
       "is_guest_login                   int64\n",
       "count                            int64\n",
       "srv_count                        int64\n",
       "serror_rate                    float64\n",
       "srv_serror_rate                float64\n",
       "rerror_rate                    float64\n",
       "srv_rerror_rate                float64\n",
       "same_srv_rate                  float64\n",
       "diff_srv_rate                  float64\n",
       "srv_diff_host_rate             float64\n",
       "dst_host_count                   int64\n",
       "dst_host_srv_count               int64\n",
       "dst_host_same_srv_rate         float64\n",
       "dst_host_diff_srv_rate         float64\n",
       "dst_host_same_src_port_rate    float64\n",
       "dst_host_srv_diff_host_rate    float64\n",
       "dst_host_serror_rate           float64\n",
       "dst_host_srv_serror_rate       float64\n",
       "dst_host_rerror_rate           float64\n",
       "dst_host_srv_rerror_rate       float64\n",
       "class                            int64\n",
       "dtype: object"
      ]
     },
     "execution_count": 2,
     "metadata": {},
     "output_type": "execute_result"
    }
   ],
   "source": [
    "df = pd.read_csv(\"../datasets/KDDCup.csv\").iloc[:10000,:]\n",
    "features = df.columns[:-1]\n",
    "df.dtypes"
   ]
  },
  {
   "cell_type": "markdown",
   "metadata": {},
   "source": [
    "## Plot data distribution\n",
    "---\n",
    "Encode the protocol_type, service and flag attributes and apply the **PCA**"
   ]
  },
  {
   "cell_type": "code",
   "execution_count": 3,
   "metadata": {},
   "outputs": [
    {
     "data": {
      "image/png": "[encoded data removed]",
      "text/plain": [
       "<Figure size 640x480 with 1 Axes>"
      ]
     },
     "metadata": {},
     "output_type": "display_data"
    }
   ],
   "source": [
    "from sklearn.preprocessing import OrdinalEncoder\n",
    "from sklearn.preprocessing import StandardScaler\n",
    "from sklearn.decomposition import PCA\n",
    "\n",
    "encoder = OrdinalEncoder()\n",
    "encDf = df.copy()\n",
    "encDf[[\"protocol_type\",\"service\",\"flag\"]] = encoder.fit_transform(encDf[[\"protocol_type\",\"service\",\"flag\"]])\n",
    "\n",
    "\n",
    "features = encDf.drop([\"class\"],axis=1)\n",
    "label = encDf[\"class\"]\n",
    "\n",
    "scaled_features = StandardScaler().fit_transform(features)\n",
    "num_components = 2\n",
    "pca = PCA(n_components=num_components)\n",
    "pca_data = pca.fit_transform(scaled_features)\n",
    "pca_data.shape\n",
    "\n",
    "pc_df = pd.DataFrame(data = pca_data,columns = [\"pc1\", \"pc2\"])\n",
    "pc_df[\"class\"] = label\n",
    "\n",
    "normalities = pc_df[pc_df[\"class\"] == 0]\n",
    "intrusions = pc_df[pc_df[\"class\"] == 1]\n",
    "\n",
    "fig = plt.figure()\n",
    "ax1 = fig.add_subplot(111)\n",
    "ax1.scatter(x=normalities[\"pc1\"], y=normalities[\"pc2\"], marker=\"s\", label='Normalities: # ' + str(normalities.shape[0]))\n",
    "ax1.scatter(x=intrusions[\"pc1\"], y=intrusions[\"pc2\"], marker=\"o\", label='Intrusions: # ' + str(intrusions.shape[0]))\n",
    "plt.legend(loc='upper left');\n",
    "fig.tight_layout()\n",
    "plt.show()"
   ]
  },
  {
   "cell_type": "markdown",
   "metadata": {},
   "source": [
    "## Find the best SML model!\n",
    "---\n",
    "### Hint\n",
    "Since the stream is imbalances, the Accuracy is not a reliable metric. Try using [BalancedAccuracy](https://riverml.xyz/latest/api/metrics/BalancedAccuracy/) and [GeometricMean](https://riverml.xyz/latest/api/metrics/GeometricMean/) instead. To combine them, use [Metrics](https://riverml.xyz/latest/api/metrics/Metrics/)"
   ]
  },
  {
   "cell_type": "code",
   "execution_count": 4,
   "metadata": {},
   "outputs": [],
   "source": [
    "from river.stream import iter_pandas\n",
    "from river.evaluate import progressive_val_score\n",
    "from river.metrics import Rolling,Metrics,Accuracy,BalancedAccuracy,GeometricMean,CohenKappa\n",
    "from river import compose"
   ]
  },
  {
   "cell_type": "markdown",
   "metadata": {},
   "source": [
    "## Naïve Bayes"
   ]
  },
  {
   "cell_type": "raw",
   "metadata": {},
   "source": [
    "from river.naive_bayes import GaussianNB\n",
    "\n",
    "model = (\n",
    "    compose.Discard('protocol_type','service', 'flag') |\n",
    "    GaussianNB()\n",
    ")\n",
    "features = df.columns[:-1]\n",
    "metrics = Metrics(metrics=[Accuracy(),BalancedAccuracy(),GeometricMean(),CohenKappa()])\n",
    "stream = iter_pandas(X=df[features], y=df['class'])\n",
    "\n",
    "progressive_val_score(dataset=stream,\n",
    "                      model=model,\n",
    "                      metric=metrics,\n",
    "                      print_every=1000)"
   ]
  },
  {
   "cell_type": "code",
   "execution_count": 11,
   "metadata": {},
   "outputs": [
    {
     "name": "stdout",
     "output_type": "stream",
     "text": [
      "[500] Accuracy: 100.00%, BalancedAccuracy: 100.00%, GeometricMean: 100.00%, CohenKappa: 0.00%\t(rolling 500)\n",
      "[1,000] Accuracy: 99.60%, BalancedAccuracy: 50.00%, GeometricMean: 0.00%, CohenKappa: 0.00%\t(rolling 500)\n",
      "[1,500] Accuracy: 100.00%, BalancedAccuracy: 100.00%, GeometricMean: 100.00%, CohenKappa: 0.00%\t(rolling 500)\n",
      "[2,000] Accuracy: 100.00%, BalancedAccuracy: 100.00%, GeometricMean: 100.00%, CohenKappa: 0.00%\t(rolling 500)\n",
      "[2,500] Accuracy: 100.00%, BalancedAccuracy: 100.00%, GeometricMean: 100.00%, CohenKappa: 0.00%\t(rolling 500)\n",
      "[3,000] Accuracy: 100.00%, BalancedAccuracy: 100.00%, GeometricMean: 100.00%, CohenKappa: 0.00%\t(rolling 500)\n",
      "[3,500] Accuracy: 100.00%, BalancedAccuracy: 100.00%, GeometricMean: 100.00%, CohenKappa: 0.00%\t(rolling 500)\n",
      "[4,000] Accuracy: 100.00%, BalancedAccuracy: 100.00%, GeometricMean: 100.00%, CohenKappa: 0.00%\t(rolling 500)\n",
      "[4,500] Accuracy: 99.60%, BalancedAccuracy: 50.00%, GeometricMean: 0.00%, CohenKappa: 0.00%\t(rolling 500)\n",
      "[5,000] Accuracy: 100.00%, BalancedAccuracy: 100.00%, GeometricMean: 100.00%, CohenKappa: 0.00%\t(rolling 500)\n",
      "[5,500] Accuracy: 100.00%, BalancedAccuracy: 100.00%, GeometricMean: 100.00%, CohenKappa: 0.00%\t(rolling 500)\n",
      "[6,000] Accuracy: 100.00%, BalancedAccuracy: 100.00%, GeometricMean: 100.00%, CohenKappa: 0.00%\t(rolling 500)\n",
      "[6,500] Accuracy: 100.00%, BalancedAccuracy: 100.00%, GeometricMean: 100.00%, CohenKappa: 0.00%\t(rolling 500)\n",
      "[7,000] Accuracy: 100.00%, BalancedAccuracy: 100.00%, GeometricMean: 100.00%, CohenKappa: 0.00%\t(rolling 500)\n",
      "[7,500] Accuracy: 100.00%, BalancedAccuracy: 100.00%, GeometricMean: 100.00%, CohenKappa: 0.00%\t(rolling 500)\n",
      "[8,000] Accuracy: 58.20%, BalancedAccuracy: 50.00%, GeometricMean: 0.00%, CohenKappa: 0.00%\t(rolling 500)\n",
      "[8,500] Accuracy: 0.00%, BalancedAccuracy: 0.00%, GeometricMean: 0.00%, CohenKappa: 0.00%\t(rolling 500)\n",
      "[9,000] Accuracy: 0.00%, BalancedAccuracy: 0.00%, GeometricMean: 0.00%, CohenKappa: 0.00%\t(rolling 500)\n",
      "[9,500] Accuracy: 0.00%, BalancedAccuracy: 0.00%, GeometricMean: 0.00%, CohenKappa: 0.00%\t(rolling 500)\n",
      "[10,000] Accuracy: 0.00%, BalancedAccuracy: 0.00%, GeometricMean: 0.00%, CohenKappa: 0.00%\t(rolling 500)\n"
     ]
    },
    {
     "data": {
      "text/plain": [
       "Accuracy: 0.00%, BalancedAccuracy: 0.00%, GeometricMean: 0.00%, CohenKappa: 0.00%\t(rolling 500)"
      ]
     },
     "execution_count": 11,
     "metadata": {},
     "output_type": "execute_result"
    }
   ],
   "source": [
    "from river.naive_bayes import GaussianNB\n",
    "\n",
    "model = (\n",
    "    compose.Discard('protocol_type','service', 'flag') |\n",
    "    GaussianNB()\n",
    ")\n",
    "features = df.columns[:-1]\n",
    "metrics = Rolling(metric=Metrics(metrics=[Accuracy(),BalancedAccuracy(),GeometricMean(),CohenKappa()]),window_size=500)\n",
    "stream = iter_pandas(X=df[features], y=df['class'])\n",
    "\n",
    "progressive_val_score(dataset=stream,\n",
    "                      model=model,\n",
    "                      metric=metrics,\n",
    "                      print_every=500)"
   ]
  },
  {
   "cell_type": "markdown",
   "metadata": {},
   "source": [
    "## Hoeffding Adaptive Tree"
   ]
  },
  {
   "cell_type": "raw",
   "metadata": {},
   "source": [
    "from river.tree import HoeffdingAdaptiveTreeClassifier\n",
    "\n",
    "model = HoeffdingAdaptiveTreeClassifier(nominal_attributes=['protocol_type','service', 'flag'], seed=42)\n",
    "metrics = Metrics(metrics=[Accuracy(),BalancedAccuracy(),GeometricMean(),CohenKappa()])\n",
    "stream = iter_pandas(X=df[features], y=df['class'])\n",
    "\n",
    "progressive_val_score(dataset=stream, \n",
    "                      model=model, \n",
    "                      metric=metrics, \n",
    "                      print_every=1000)"
   ]
  },
  {
   "cell_type": "code",
   "execution_count": 12,
   "metadata": {},
   "outputs": [
    {
     "name": "stdout",
     "output_type": "stream",
     "text": [
      "[500] Accuracy: 100.00%, BalancedAccuracy: 100.00%, GeometricMean: 100.00%, CohenKappa: 0.00%\t(rolling 500)\n",
      "[1,000] Accuracy: 99.20%, BalancedAccuracy: 49.80%, GeometricMean: 0.00%, CohenKappa: -0.40%\t(rolling 500)\n",
      "[1,500] Accuracy: 100.00%, BalancedAccuracy: 100.00%, GeometricMean: 100.00%, CohenKappa: 0.00%\t(rolling 500)\n",
      "[2,000] Accuracy: 100.00%, BalancedAccuracy: 100.00%, GeometricMean: 100.00%, CohenKappa: 0.00%\t(rolling 500)\n",
      "[2,500] Accuracy: 100.00%, BalancedAccuracy: 100.00%, GeometricMean: 100.00%, CohenKappa: 0.00%\t(rolling 500)\n",
      "[3,000] Accuracy: 99.80%, BalancedAccuracy: 49.90%, GeometricMean: 0.00%, CohenKappa: 0.00%\t(rolling 500)\n",
      "[3,500] Accuracy: 100.00%, BalancedAccuracy: 100.00%, GeometricMean: 100.00%, CohenKappa: 0.00%\t(rolling 500)\n",
      "[4,000] Accuracy: 99.20%, BalancedAccuracy: 49.60%, GeometricMean: 0.00%, CohenKappa: 0.00%\t(rolling 500)\n",
      "[4,500] Accuracy: 99.00%, BalancedAccuracy: 99.50%, GeometricMean: 99.50%, CohenKappa: 44.10%\t(rolling 500)\n",
      "[5,000] Accuracy: 99.80%, BalancedAccuracy: 49.90%, GeometricMean: 0.00%, CohenKappa: 0.00%\t(rolling 500)\n",
      "[5,500] Accuracy: 100.00%, BalancedAccuracy: 100.00%, GeometricMean: 100.00%, CohenKappa: 0.00%\t(rolling 500)\n",
      "[6,000] Accuracy: 100.00%, BalancedAccuracy: 100.00%, GeometricMean: 100.00%, CohenKappa: 0.00%\t(rolling 500)\n",
      "[6,500] Accuracy: 100.00%, BalancedAccuracy: 100.00%, GeometricMean: 100.00%, CohenKappa: 0.00%\t(rolling 500)\n",
      "[7,000] Accuracy: 100.00%, BalancedAccuracy: 100.00%, GeometricMean: 100.00%, CohenKappa: 0.00%\t(rolling 500)\n",
      "[7,500] Accuracy: 100.00%, BalancedAccuracy: 100.00%, GeometricMean: 100.00%, CohenKappa: 0.00%\t(rolling 500)\n",
      "[8,000] Accuracy: 96.80%, BalancedAccuracy: 96.24%, GeometricMean: 96.18%, CohenKappa: 93.36%\t(rolling 500)\n",
      "[8,500] Accuracy: 100.00%, BalancedAccuracy: 100.00%, GeometricMean: 100.00%, CohenKappa: 0.00%\t(rolling 500)\n",
      "[9,000] Accuracy: 100.00%, BalancedAccuracy: 100.00%, GeometricMean: 100.00%, CohenKappa: 0.00%\t(rolling 500)\n",
      "[9,500] Accuracy: 100.00%, BalancedAccuracy: 100.00%, GeometricMean: 100.00%, CohenKappa: 0.00%\t(rolling 500)\n",
      "[10,000] Accuracy: 100.00%, BalancedAccuracy: 100.00%, GeometricMean: 100.00%, CohenKappa: 0.00%\t(rolling 500)\n"
     ]
    },
    {
     "data": {
      "text/plain": [
       "Accuracy: 100.00%, BalancedAccuracy: 100.00%, GeometricMean: 100.00%, CohenKappa: 0.00%\t(rolling 500)"
      ]
     },
     "execution_count": 12,
     "metadata": {},
     "output_type": "execute_result"
    }
   ],
   "source": [
    "from river.tree import HoeffdingAdaptiveTreeClassifier\n",
    "\n",
    "model = HoeffdingAdaptiveTreeClassifier(nominal_attributes=['protocol_type','service', 'flag'], seed=42)\n",
    "metrics = Rolling(metric=Metrics(metrics=[Accuracy(),BalancedAccuracy(),GeometricMean(),CohenKappa()]),window_size=500)\n",
    "stream = iter_pandas(X=df[features], y=df['class'])\n",
    "\n",
    "progressive_val_score(dataset=stream, \n",
    "                      model=model, \n",
    "                      metric=metrics, \n",
    "                      print_every=500)"
   ]
  },
  {
   "cell_type": "markdown",
   "metadata": {},
   "source": [
    "## Adaptive Random Forest"
   ]
  },
  {
   "cell_type": "raw",
   "metadata": {},
   "source": [
    "from river.ensemble import AdaptiveRandomForestClassifier\n",
    "\n",
    "model = AdaptiveRandomForestClassifier(n_models=5,nominal_attributes=['protocol_type','service', 'flag'])\n",
    "metrics = Metrics(metrics=[Accuracy(),BalancedAccuracy(),GeometricMean(),CohenKappa()])\n",
    "stream = iter_pandas(X=df[features], y=df['class'])\n",
    "\n",
    "progressive_val_score(dataset=stream,\n",
    "                      model=model,\n",
    "                      metric=metrics,\n",
    "                      print_every=1000)"
   ]
  },
  {
   "cell_type": "code",
   "execution_count": 13,
   "metadata": {},
   "outputs": [
    {
     "name": "stdout",
     "output_type": "stream",
     "text": [
      "[500] Accuracy: 100.00%, BalancedAccuracy: 100.00%, GeometricMean: 100.00%, CohenKappa: 0.00%\t(rolling 500)\n",
      "[1,000] Accuracy: 99.60%, BalancedAccuracy: 50.00%, GeometricMean: 0.00%, CohenKappa: 0.00%\t(rolling 500)\n",
      "[1,500] Accuracy: 100.00%, BalancedAccuracy: 100.00%, GeometricMean: 100.00%, CohenKappa: 0.00%\t(rolling 500)\n",
      "[2,000] Accuracy: 100.00%, BalancedAccuracy: 100.00%, GeometricMean: 100.00%, CohenKappa: 0.00%\t(rolling 500)\n",
      "[2,500] Accuracy: 100.00%, BalancedAccuracy: 100.00%, GeometricMean: 100.00%, CohenKappa: 0.00%\t(rolling 500)\n",
      "[3,000] Accuracy: 100.00%, BalancedAccuracy: 100.00%, GeometricMean: 100.00%, CohenKappa: 0.00%\t(rolling 500)\n",
      "[3,500] Accuracy: 100.00%, BalancedAccuracy: 100.00%, GeometricMean: 100.00%, CohenKappa: 0.00%\t(rolling 500)\n",
      "[4,000] Accuracy: 100.00%, BalancedAccuracy: 100.00%, GeometricMean: 100.00%, CohenKappa: 0.00%\t(rolling 500)\n",
      "[4,500] Accuracy: 99.60%, BalancedAccuracy: 50.00%, GeometricMean: 0.00%, CohenKappa: 0.00%\t(rolling 500)\n",
      "[5,000] Accuracy: 100.00%, BalancedAccuracy: 100.00%, GeometricMean: 100.00%, CohenKappa: 0.00%\t(rolling 500)\n",
      "[5,500] Accuracy: 100.00%, BalancedAccuracy: 100.00%, GeometricMean: 100.00%, CohenKappa: 0.00%\t(rolling 500)\n",
      "[6,000] Accuracy: 100.00%, BalancedAccuracy: 100.00%, GeometricMean: 100.00%, CohenKappa: 0.00%\t(rolling 500)\n",
      "[6,500] Accuracy: 100.00%, BalancedAccuracy: 100.00%, GeometricMean: 100.00%, CohenKappa: 0.00%\t(rolling 500)\n",
      "[7,000] Accuracy: 100.00%, BalancedAccuracy: 100.00%, GeometricMean: 100.00%, CohenKappa: 0.00%\t(rolling 500)\n",
      "[7,500] Accuracy: 100.00%, BalancedAccuracy: 100.00%, GeometricMean: 100.00%, CohenKappa: 0.00%\t(rolling 500)\n",
      "[8,000] Accuracy: 97.80%, BalancedAccuracy: 97.37%, GeometricMean: 97.33%, CohenKappa: 95.44%\t(rolling 500)\n",
      "[8,500] Accuracy: 100.00%, BalancedAccuracy: 100.00%, GeometricMean: 100.00%, CohenKappa: 0.00%\t(rolling 500)\n",
      "[9,000] Accuracy: 100.00%, BalancedAccuracy: 100.00%, GeometricMean: 100.00%, CohenKappa: 0.00%\t(rolling 500)\n",
      "[9,500] Accuracy: 100.00%, BalancedAccuracy: 100.00%, GeometricMean: 100.00%, CohenKappa: 0.00%\t(rolling 500)\n",
      "[10,000] Accuracy: 100.00%, BalancedAccuracy: 100.00%, GeometricMean: 100.00%, CohenKappa: 0.00%\t(rolling 500)\n"
     ]
    },
    {
     "data": {
      "text/plain": [
       "Accuracy: 100.00%, BalancedAccuracy: 100.00%, GeometricMean: 100.00%, CohenKappa: 0.00%\t(rolling 500)"
      ]
     },
     "execution_count": 13,
     "metadata": {},
     "output_type": "execute_result"
    }
   ],
   "source": [
    "from river.ensemble import AdaptiveRandomForestClassifier\n",
    "\n",
    "model = AdaptiveRandomForestClassifier(n_models=5,nominal_attributes=['protocol_type','service', 'flag'])\n",
    "metrics = Rolling(metric=Metrics(metrics=[Accuracy(),BalancedAccuracy(),GeometricMean(),CohenKappa()]),window_size=500)\n",
    "stream = iter_pandas(X=df[features], y=df['class'])\n",
    "\n",
    "progressive_val_score(dataset=stream,\n",
    "                      model=model,\n",
    "                      metric=metrics,\n",
    "                      print_every=500)"
   ]
  },
  {
   "cell_type": "markdown",
   "metadata": {},
   "source": [
    "## ADWIN Online Bagging"
   ]
  },
  {
   "cell_type": "raw",
   "metadata": {},
   "source": [
    "from river.ensemble import ADWINBaggingClassifier\n",
    "from river.tree import HoeffdingTreeClassifier\n",
    "\n",
    "model = ADWINBaggingClassifier(model=HoeffdingTreeClassifier(nominal_attributes=['protocol_type','service', 'flag']),\n",
    "                          n_models=5,\n",
    "                          seed=42)\n",
    "metrics = Metrics(metrics=[Accuracy(),BalancedAccuracy(),GeometricMean(),CohenKappa()])\n",
    "stream = iter_pandas(X=df[features], y=df['class'])\n",
    "\n",
    "progressive_val_score(dataset=stream,\n",
    "                      model=model,\n",
    "                      metric=metrics,\n",
    "                      print_every=1000)\n"
   ]
  },
  {
   "cell_type": "code",
   "execution_count": 14,
   "metadata": {},
   "outputs": [
    {
     "name": "stdout",
     "output_type": "stream",
     "text": [
      "[500] Accuracy: 100.00%, BalancedAccuracy: 100.00%, GeometricMean: 100.00%, CohenKappa: 0.00%\t(rolling 500)\n",
      "[1,000] Accuracy: 99.60%, BalancedAccuracy: 50.00%, GeometricMean: 0.00%, CohenKappa: 0.00%\t(rolling 500)\n",
      "[1,500] Accuracy: 100.00%, BalancedAccuracy: 100.00%, GeometricMean: 100.00%, CohenKappa: 0.00%\t(rolling 500)\n",
      "[2,000] Accuracy: 100.00%, BalancedAccuracy: 100.00%, GeometricMean: 100.00%, CohenKappa: 0.00%\t(rolling 500)\n",
      "[2,500] Accuracy: 100.00%, BalancedAccuracy: 100.00%, GeometricMean: 100.00%, CohenKappa: 0.00%\t(rolling 500)\n",
      "[3,000] Accuracy: 100.00%, BalancedAccuracy: 100.00%, GeometricMean: 100.00%, CohenKappa: 0.00%\t(rolling 500)\n",
      "[3,500] Accuracy: 100.00%, BalancedAccuracy: 100.00%, GeometricMean: 100.00%, CohenKappa: 0.00%\t(rolling 500)\n",
      "[4,000] Accuracy: 99.20%, BalancedAccuracy: 49.60%, GeometricMean: 0.00%, CohenKappa: 0.00%\t(rolling 500)\n",
      "[4,500] Accuracy: 98.80%, BalancedAccuracy: 74.50%, GeometricMean: 70.35%, CohenKappa: 24.55%\t(rolling 500)\n",
      "[5,000] Accuracy: 99.80%, BalancedAccuracy: 49.90%, GeometricMean: 0.00%, CohenKappa: 0.00%\t(rolling 500)\n",
      "[5,500] Accuracy: 100.00%, BalancedAccuracy: 100.00%, GeometricMean: 100.00%, CohenKappa: 0.00%\t(rolling 500)\n",
      "[6,000] Accuracy: 100.00%, BalancedAccuracy: 100.00%, GeometricMean: 100.00%, CohenKappa: 0.00%\t(rolling 500)\n",
      "[6,500] Accuracy: 100.00%, BalancedAccuracy: 100.00%, GeometricMean: 100.00%, CohenKappa: 0.00%\t(rolling 500)\n",
      "[7,000] Accuracy: 100.00%, BalancedAccuracy: 100.00%, GeometricMean: 100.00%, CohenKappa: 0.00%\t(rolling 500)\n",
      "[7,500] Accuracy: 100.00%, BalancedAccuracy: 100.00%, GeometricMean: 100.00%, CohenKappa: 0.00%\t(rolling 500)\n",
      "[8,000] Accuracy: 98.40%, BalancedAccuracy: 98.15%, GeometricMean: 98.14%, CohenKappa: 96.70%\t(rolling 500)\n",
      "[8,500] Accuracy: 99.80%, BalancedAccuracy: 49.90%, GeometricMean: 0.00%, CohenKappa: 0.00%\t(rolling 500)\n",
      "[9,000] Accuracy: 100.00%, BalancedAccuracy: 100.00%, GeometricMean: 100.00%, CohenKappa: 0.00%\t(rolling 500)\n",
      "[9,500] Accuracy: 100.00%, BalancedAccuracy: 100.00%, GeometricMean: 100.00%, CohenKappa: 0.00%\t(rolling 500)\n",
      "[10,000] Accuracy: 100.00%, BalancedAccuracy: 100.00%, GeometricMean: 100.00%, CohenKappa: 0.00%\t(rolling 500)\n"
     ]
    },
    {
     "data": {
      "text/plain": [
       "Accuracy: 100.00%, BalancedAccuracy: 100.00%, GeometricMean: 100.00%, CohenKappa: 0.00%\t(rolling 500)"
      ]
     },
     "execution_count": 14,
     "metadata": {},
     "output_type": "execute_result"
    }
   ],
   "source": [
    "from river.ensemble import ADWINBaggingClassifier\n",
    "from river.tree import HoeffdingTreeClassifier\n",
    "\n",
    "model = ADWINBaggingClassifier(model=HoeffdingTreeClassifier(nominal_attributes=['protocol_type','service', 'flag']),\n",
    "                          n_models=5,\n",
    "                          seed=42)\n",
    "metrics = Rolling(metric=Metrics(metrics=[Accuracy(),BalancedAccuracy(),GeometricMean(),CohenKappa()]),window_size=500)\n",
    "stream = iter_pandas(X=df[features], y=df['class'])\n",
    "\n",
    "progressive_val_score(dataset=stream,\n",
    "                      model=model,\n",
    "                      metric=metrics,\n",
    "                      print_every=500)"
   ]
  },
  {
   "cell_type": "markdown",
   "metadata": {},
   "source": [
    "## Leveraging Bagging"
   ]
  },
  {
   "cell_type": "raw",
   "metadata": {},
   "source": [
    "from river.ensemble import LeveragingBaggingClassifier\n",
    "from river.tree import HoeffdingTreeClassifier\n",
    "\n",
    "model = LeveragingBaggingClassifier(model=HoeffdingTreeClassifier(nominal_attributes=['protocol_type','service', 'flag']),\n",
    "                          n_models=5,\n",
    "                          seed=42)\n",
    "metrics = Metrics(metrics=[Accuracy(),BalancedAccuracy(),GeometricMean(),CohenKappa()])\n",
    "stream = iter_pandas(X=df[features], y=df['class'])\n",
    "\n",
    "progressive_val_score(dataset=stream,\n",
    "                      model=model,\n",
    "                      metric=metrics,\n",
    "                      print_every=1000)\n"
   ]
  },
  {
   "cell_type": "code",
   "execution_count": 15,
   "metadata": {},
   "outputs": [
    {
     "name": "stdout",
     "output_type": "stream",
     "text": [
      "[500] Accuracy: 100.00%, BalancedAccuracy: 100.00%, GeometricMean: 100.00%, CohenKappa: 0.00%\t(rolling 500)\n",
      "[1,000] Accuracy: 99.40%, BalancedAccuracy: 74.80%, GeometricMean: 70.57%, CohenKappa: 39.71%\t(rolling 500)\n",
      "[1,500] Accuracy: 100.00%, BalancedAccuracy: 100.00%, GeometricMean: 100.00%, CohenKappa: 0.00%\t(rolling 500)\n",
      "[2,000] Accuracy: 100.00%, BalancedAccuracy: 100.00%, GeometricMean: 100.00%, CohenKappa: 0.00%\t(rolling 500)\n",
      "[2,500] Accuracy: 100.00%, BalancedAccuracy: 100.00%, GeometricMean: 100.00%, CohenKappa: 0.00%\t(rolling 500)\n",
      "[3,000] Accuracy: 100.00%, BalancedAccuracy: 100.00%, GeometricMean: 100.00%, CohenKappa: 0.00%\t(rolling 500)\n",
      "[3,500] Accuracy: 100.00%, BalancedAccuracy: 100.00%, GeometricMean: 100.00%, CohenKappa: 0.00%\t(rolling 500)\n",
      "[4,000] Accuracy: 100.00%, BalancedAccuracy: 100.00%, GeometricMean: 100.00%, CohenKappa: 0.00%\t(rolling 500)\n",
      "[4,500] Accuracy: 99.80%, BalancedAccuracy: 75.00%, GeometricMean: 70.71%, CohenKappa: 66.58%\t(rolling 500)\n",
      "[5,000] Accuracy: 100.00%, BalancedAccuracy: 100.00%, GeometricMean: 100.00%, CohenKappa: 0.00%\t(rolling 500)\n",
      "[5,500] Accuracy: 100.00%, BalancedAccuracy: 100.00%, GeometricMean: 100.00%, CohenKappa: 0.00%\t(rolling 500)\n",
      "[6,000] Accuracy: 100.00%, BalancedAccuracy: 100.00%, GeometricMean: 100.00%, CohenKappa: 0.00%\t(rolling 500)\n",
      "[6,500] Accuracy: 100.00%, BalancedAccuracy: 100.00%, GeometricMean: 100.00%, CohenKappa: 0.00%\t(rolling 500)\n",
      "[7,000] Accuracy: 100.00%, BalancedAccuracy: 100.00%, GeometricMean: 100.00%, CohenKappa: 0.00%\t(rolling 500)\n",
      "[7,500] Accuracy: 100.00%, BalancedAccuracy: 100.00%, GeometricMean: 100.00%, CohenKappa: 0.00%\t(rolling 500)\n",
      "[8,000] Accuracy: 98.40%, BalancedAccuracy: 98.15%, GeometricMean: 98.14%, CohenKappa: 96.70%\t(rolling 500)\n",
      "[8,500] Accuracy: 99.20%, BalancedAccuracy: 49.60%, GeometricMean: 0.00%, CohenKappa: 0.00%\t(rolling 500)\n",
      "[9,000] Accuracy: 100.00%, BalancedAccuracy: 100.00%, GeometricMean: 100.00%, CohenKappa: 0.00%\t(rolling 500)\n",
      "[9,500] Accuracy: 100.00%, BalancedAccuracy: 100.00%, GeometricMean: 100.00%, CohenKappa: 0.00%\t(rolling 500)\n",
      "[10,000] Accuracy: 100.00%, BalancedAccuracy: 100.00%, GeometricMean: 100.00%, CohenKappa: 0.00%\t(rolling 500)\n"
     ]
    },
    {
     "data": {
      "text/plain": [
       "Accuracy: 100.00%, BalancedAccuracy: 100.00%, GeometricMean: 100.00%, CohenKappa: 0.00%\t(rolling 500)"
      ]
     },
     "execution_count": 15,
     "metadata": {},
     "output_type": "execute_result"
    }
   ],
   "source": [
    "from river.ensemble import LeveragingBaggingClassifier\n",
    "from river.tree import HoeffdingTreeClassifier\n",
    "\n",
    "model = LeveragingBaggingClassifier(model=HoeffdingTreeClassifier(nominal_attributes=['protocol_type','service', 'flag']),\n",
    "                          n_models=5,\n",
    "                          seed=42)\n",
    "metrics = Rolling(metric=Metrics(metrics=[Accuracy(),BalancedAccuracy(),GeometricMean(),CohenKappa()]),window_size=500)\n",
    "stream = iter_pandas(X=df[features], y=df['class'])\n",
    "\n",
    "progressive_val_score(dataset=stream,\n",
    "                      model=model,\n",
    "                      metric=metrics,\n",
    "                      print_every=500)"
   ]
  },
  {
   "cell_type": "markdown",
   "metadata": {},
   "source": [
    "## Streaming Random Patches"
   ]
  },
  {
   "cell_type": "raw",
   "metadata": {},
   "source": [
    "from river.ensemble import SRPClassifier\n",
    "from river.tree import HoeffdingTreeClassifier\n",
    "from river.drift import ADWIN\n",
    "\n",
    "model = SRPClassifier(model=HoeffdingTreeClassifier(nominal_attributes=['protocol_type','service', 'flag']),\n",
    "                      n_models=5,\n",
    "                      drift_detector=ADWIN(delta=0.001),\n",
    "                      warning_detector=ADWIN(delta=0.01),\n",
    "                      seed=42)\n",
    "metrics = Metrics(metrics=[Accuracy(),BalancedAccuracy(),GeometricMean(),CohenKappa()])\n",
    "stream = iter_pandas(X=df[features], y=df['class'])\n",
    "\n",
    "progressive_val_score(dataset=stream, \n",
    "                      model=model, \n",
    "                      metric=metrics, \n",
    "                      print_every=1000)"
   ]
  },
  {
   "cell_type": "code",
   "execution_count": 16,
   "metadata": {},
   "outputs": [
    {
     "name": "stdout",
     "output_type": "stream",
     "text": [
      "[500] Accuracy: 100.00%, BalancedAccuracy: 100.00%, GeometricMean: 100.00%, CohenKappa: 0.00%\t(rolling 500)\n",
      "[1,000] Accuracy: 99.40%, BalancedAccuracy: 74.80%, GeometricMean: 70.57%, CohenKappa: 39.71%\t(rolling 500)\n",
      "[1,500] Accuracy: 100.00%, BalancedAccuracy: 100.00%, GeometricMean: 100.00%, CohenKappa: 0.00%\t(rolling 500)\n",
      "[2,000] Accuracy: 100.00%, BalancedAccuracy: 100.00%, GeometricMean: 100.00%, CohenKappa: 0.00%\t(rolling 500)\n",
      "[2,500] Accuracy: 100.00%, BalancedAccuracy: 100.00%, GeometricMean: 100.00%, CohenKappa: 0.00%\t(rolling 500)\n",
      "[3,000] Accuracy: 100.00%, BalancedAccuracy: 100.00%, GeometricMean: 100.00%, CohenKappa: 0.00%\t(rolling 500)\n",
      "[3,500] Accuracy: 100.00%, BalancedAccuracy: 100.00%, GeometricMean: 100.00%, CohenKappa: 0.00%\t(rolling 500)\n",
      "[4,000] Accuracy: 100.00%, BalancedAccuracy: 100.00%, GeometricMean: 100.00%, CohenKappa: 0.00%\t(rolling 500)\n",
      "[4,500] Accuracy: 99.80%, BalancedAccuracy: 99.90%, GeometricMean: 99.90%, CohenKappa: 79.90%\t(rolling 500)\n",
      "[5,000] Accuracy: 100.00%, BalancedAccuracy: 100.00%, GeometricMean: 100.00%, CohenKappa: 0.00%\t(rolling 500)\n",
      "[5,500] Accuracy: 100.00%, BalancedAccuracy: 100.00%, GeometricMean: 100.00%, CohenKappa: 0.00%\t(rolling 500)\n",
      "[6,000] Accuracy: 100.00%, BalancedAccuracy: 100.00%, GeometricMean: 100.00%, CohenKappa: 0.00%\t(rolling 500)\n",
      "[6,500] Accuracy: 100.00%, BalancedAccuracy: 100.00%, GeometricMean: 100.00%, CohenKappa: 0.00%\t(rolling 500)\n",
      "[7,000] Accuracy: 100.00%, BalancedAccuracy: 100.00%, GeometricMean: 100.00%, CohenKappa: 0.00%\t(rolling 500)\n",
      "[7,500] Accuracy: 100.00%, BalancedAccuracy: 100.00%, GeometricMean: 100.00%, CohenKappa: 0.00%\t(rolling 500)\n",
      "[8,000] Accuracy: 97.00%, BalancedAccuracy: 96.48%, GeometricMean: 96.43%, CohenKappa: 93.78%\t(rolling 500)\n",
      "[8,500] Accuracy: 100.00%, BalancedAccuracy: 100.00%, GeometricMean: 100.00%, CohenKappa: 0.00%\t(rolling 500)\n",
      "[9,000] Accuracy: 100.00%, BalancedAccuracy: 100.00%, GeometricMean: 100.00%, CohenKappa: 0.00%\t(rolling 500)\n",
      "[9,500] Accuracy: 100.00%, BalancedAccuracy: 100.00%, GeometricMean: 100.00%, CohenKappa: 0.00%\t(rolling 500)\n",
      "[10,000] Accuracy: 100.00%, BalancedAccuracy: 100.00%, GeometricMean: 100.00%, CohenKappa: 0.00%\t(rolling 500)\n"
     ]
    },
    {
     "data": {
      "text/plain": [
       "Accuracy: 100.00%, BalancedAccuracy: 100.00%, GeometricMean: 100.00%, CohenKappa: 0.00%\t(rolling 500)"
      ]
     },
     "execution_count": 16,
     "metadata": {},
     "output_type": "execute_result"
    }
   ],
   "source": [
    "from river.ensemble import SRPClassifier\n",
    "from river.tree import HoeffdingTreeClassifier\n",
    "from river.drift import ADWIN\n",
    "\n",
    "model = SRPClassifier(model=HoeffdingTreeClassifier(nominal_attributes=['protocol_type','service', 'flag']),\n",
    "                      n_models=5,\n",
    "                      drift_detector=ADWIN(delta=0.001),\n",
    "                      warning_detector=ADWIN(delta=0.01),\n",
    "                      seed=42)\n",
    "metrics = Rolling(metric=Metrics(metrics=[Accuracy(),BalancedAccuracy(),GeometricMean(),CohenKappa()]),window_size=500)\n",
    "stream = iter_pandas(X=df[features], y=df['class'])\n",
    "\n",
    "progressive_val_score(dataset=stream, \n",
    "                      model=model, \n",
    "                      metric=metrics, \n",
    "                      print_every=500)"
   ]
  }
 ],
 "metadata": {
  "kernelspec": {
   "display_name": "Python 3 (ipykernel)",
   "language": "python",
   "name": "python3"
  },
  "language_info": {
   "codemirror_mode": {
    "name": "ipython",
    "version": 3
   },
   "file_extension": ".py",
   "mimetype": "text/x-python",
   "name": "python",
   "nbconvert_exporter": "python",
   "pygments_lexer": "ipython3",
   "version": "3.11.3"
  }
 },
 "nbformat": 4,
 "nbformat_minor": 4
}
