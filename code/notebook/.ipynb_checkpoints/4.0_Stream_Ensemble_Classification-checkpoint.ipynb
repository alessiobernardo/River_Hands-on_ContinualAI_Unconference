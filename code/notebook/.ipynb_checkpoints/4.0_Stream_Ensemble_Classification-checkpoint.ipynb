{
 "cells": [
  {
   "cell_type": "markdown",
   "metadata": {},
   "source": [
    "# Stream Ensemble Classification\n",
    "---\n",
    "\n",
    "## `NEWeather` dataset\n",
    "\n",
    "**Description:** The National Oceanic and Atmospheric Administration (NOAA),\n",
    "has compiled a database of weather measurements from over 7,000 weather \n",
    "stations worldwide. Records date back to the mid-1900s. Daily measurements\n",
    "include a variety of features (temperature, pressure, wind speed, etc.) as\n",
    "well as a series of indicators for precipitation and other weather-related\n",
    "events. The `NEweather` dataset contains data from this database, specifically\n",
    "from the Offutt Air Force Base in Bellevue, Nebraska ranging for over 50 years\n",
    "(1949-1999).\n",
    "\n",
    "**Features:** 8 Daily weather measurements\n",
    " \n",
    "|       Attribute      | Description |\n",
    "|:--------------------:|:-----------------------------|\n",
    "| `temp`                   | Temperature\n",
    "| `dew_pnt`                | Dew Point\n",
    "| `sea_lvl_press`          | Sea Level Pressure\n",
    "| `visibility`             | Visibility\n",
    "| `avg_wind_spd`           | Average Wind Speed\n",
    "| `max_sustained_wind_spd` | Maximum Sustained Wind Speed\n",
    "| `max_temp`               | Maximum Temperature\n",
    "| `min_temp`               | Minimum Temperature\n",
    "\n",
    "\n",
    "**Class:** `rain` | 0: no rain, 1: rain\n",
    " \n",
    "**Samples:** 18,159\n"
   ]
  },
  {
   "cell_type": "code",
   "execution_count": 1,
   "metadata": {},
   "outputs": [],
   "source": [
    "import pandas as pd\n",
    "from river.stream import iter_pandas\n",
    "from river.metrics import Accuracy,BalancedAccuracy,CohenKappa,GeometricMean\n",
    "from river.metrics.base import Metrics\n",
    "from river.utils import Rolling\n",
    "from river.evaluate import progressive_val_score"
   ]
  },
  {
   "cell_type": "code",
   "execution_count": 2,
   "metadata": {},
   "outputs": [],
   "source": [
    "data = pd.read_csv(\"../datasets/NEweather.csv\")\n",
    "features = data.columns[:-1]"
   ]
  },
  {
   "cell_type": "markdown",
   "metadata": {},
   "source": [
    "## Online Bagging\n",
    "\n",
    "---\n",
    "[Online Bagging](https://riverml.xyz/latest/api/ensemble/BaggingClassifier/) is an Online bootstrap aggregation for classification."
   ]
  },
  {
   "cell_type": "code",
   "execution_count": 3,
   "metadata": {},
   "outputs": [
    {
     "name": "stdout",
     "output_type": "stream",
     "text": [
      "[1,000] Accuracy: 70.77%, BalancedAccuracy: 67.47%, GeometricMean: 66.80%, CohenKappa: 34.45%\n",
      "[2,000] Accuracy: 70.29%, BalancedAccuracy: 66.94%, GeometricMean: 66.42%, CohenKappa: 32.37%\n",
      "[3,000] Accuracy: 71.29%, BalancedAccuracy: 62.56%, GeometricMean: 59.04%, CohenKappa: 26.45%\n",
      "[4,000] Accuracy: 71.82%, BalancedAccuracy: 61.73%, GeometricMean: 56.61%, CohenKappa: 25.72%\n",
      "[5,000] Accuracy: 72.67%, BalancedAccuracy: 62.70%, GeometricMean: 57.67%, CohenKappa: 27.97%\n",
      "[6,000] Accuracy: 73.18%, BalancedAccuracy: 63.95%, GeometricMean: 59.71%, CohenKappa: 30.34%\n",
      "[7,000] Accuracy: 74.10%, BalancedAccuracy: 65.01%, GeometricMean: 61.06%, CohenKappa: 32.60%\n",
      "[8,000] Accuracy: 73.83%, BalancedAccuracy: 64.93%, GeometricMean: 61.02%, CohenKappa: 32.39%\n",
      "[9,000] Accuracy: 73.95%, BalancedAccuracy: 64.68%, GeometricMean: 60.30%, CohenKappa: 32.20%\n",
      "[10,000] Accuracy: 74.11%, BalancedAccuracy: 64.59%, GeometricMean: 60.03%, CohenKappa: 32.14%\n",
      "[11,000] Accuracy: 74.56%, BalancedAccuracy: 64.71%, GeometricMean: 59.98%, CohenKappa: 32.57%\n",
      "[12,000] Accuracy: 74.81%, BalancedAccuracy: 64.54%, GeometricMean: 59.55%, CohenKappa: 32.39%\n",
      "[13,000] Accuracy: 74.93%, BalancedAccuracy: 64.68%, GeometricMean: 59.55%, CohenKappa: 32.83%\n",
      "[14,000] Accuracy: 74.83%, BalancedAccuracy: 64.98%, GeometricMean: 59.94%, CohenKappa: 33.50%\n",
      "[15,000] Accuracy: 75.03%, BalancedAccuracy: 65.22%, GeometricMean: 60.23%, CohenKappa: 34.04%\n",
      "[16,000] Accuracy: 75.00%, BalancedAccuracy: 65.76%, GeometricMean: 61.10%, CohenKappa: 35.04%\n",
      "[17,000] Accuracy: 75.05%, BalancedAccuracy: 66.26%, GeometricMean: 62.02%, CohenKappa: 35.85%\n",
      "[18,000] Accuracy: 74.69%, BalancedAccuracy: 66.42%, GeometricMean: 62.56%, CohenKappa: 35.88%\n",
      "[18,159] Accuracy: 74.68%, BalancedAccuracy: 66.38%, GeometricMean: 62.53%, CohenKappa: 35.78%\n"
     ]
    },
    {
     "data": {
      "text/plain": [
       "Accuracy: 74.68%, BalancedAccuracy: 66.38%, GeometricMean: 62.53%, CohenKappa: 35.78%"
      ]
     },
     "execution_count": 3,
     "metadata": {},
     "output_type": "execute_result"
    }
   ],
   "source": [
    "from river.ensemble import BaggingClassifier\n",
    "from river.tree import HoeffdingTreeClassifier\n",
    "\n",
    "model = BaggingClassifier(model=HoeffdingTreeClassifier(),\n",
    "                          n_models=10,\n",
    "                          seed=42)\n",
    "metrics = Metrics(metrics=[Accuracy(),BalancedAccuracy(),GeometricMean(),CohenKappa()])\n",
    "stream = iter_pandas(X=data[features], y=data['rain'])\n",
    "\n",
    "progressive_val_score(dataset=stream,\n",
    "                      model=model,\n",
    "                      metric=metrics,\n",
    "                      print_every=1000)"
   ]
  },
  {
   "cell_type": "markdown",
   "metadata": {},
   "source": [
    "## Leveraging Bagging\n",
    "---\n",
    "\n",
    "[Leveraging Bagging](https://riverml.xyz/latest/api/ensemble/LeveragingBaggingClassifier/) is an improvement over the Oza Bagging algorithm. The bagging performance is leveraged by increasing the re-sampling. It uses a poisson distribution to simulate the re-sampling process. To increase re-sampling it uses a higher w value of the Poisson distribution (agerage number of events), 6 by default, increasing the input space diversity, by attributing a different range of weights to the data samples.\n",
    "\n",
    "To deal with concept drift, Leveraging Bagging uses the ADWIN algorithm to monitor the performance of each member of the enemble If concept drift is detected, the worst member of the ensemble (based on the error estimation by ADWIN) is replaced by a new (empty) classifier."
   ]
  },
  {
   "cell_type": "code",
   "execution_count": 4,
   "metadata": {},
   "outputs": [
    {
     "name": "stdout",
     "output_type": "stream",
     "text": [
      "[1,000] Accuracy: 76.58%, BalancedAccuracy: 73.20%, GeometricMean: 72.56%, CohenKappa: 46.56%\n",
      "[2,000] Accuracy: 78.29%, BalancedAccuracy: 71.99%, GeometricMean: 70.25%, CohenKappa: 45.95%\n",
      "[3,000] Accuracy: 78.99%, BalancedAccuracy: 71.33%, GeometricMean: 68.98%, CohenKappa: 45.50%\n",
      "[4,000] Accuracy: 78.69%, BalancedAccuracy: 70.72%, GeometricMean: 67.99%, CohenKappa: 44.73%\n",
      "[5,000] Accuracy: 78.52%, BalancedAccuracy: 70.52%, GeometricMean: 67.71%, CohenKappa: 44.39%\n",
      "[6,000] Accuracy: 78.66%, BalancedAccuracy: 71.28%, GeometricMean: 68.88%, CohenKappa: 45.51%\n",
      "[7,000] Accuracy: 79.07%, BalancedAccuracy: 71.93%, GeometricMean: 69.76%, CohenKappa: 46.65%\n",
      "[8,000] Accuracy: 78.57%, BalancedAccuracy: 71.57%, GeometricMean: 69.40%, CohenKappa: 45.79%\n",
      "[9,000] Accuracy: 78.41%, BalancedAccuracy: 71.11%, GeometricMean: 68.69%, CohenKappa: 45.17%\n",
      "[10,000] Accuracy: 78.56%, BalancedAccuracy: 71.08%, GeometricMean: 68.57%, CohenKappa: 45.24%\n",
      "[11,000] Accuracy: 78.72%, BalancedAccuracy: 71.07%, GeometricMean: 68.53%, CohenKappa: 45.27%\n",
      "[12,000] Accuracy: 78.86%, BalancedAccuracy: 71.06%, GeometricMean: 68.50%, CohenKappa: 45.27%\n",
      "[13,000] Accuracy: 78.94%, BalancedAccuracy: 71.28%, GeometricMean: 68.75%, CohenKappa: 45.76%\n",
      "[14,000] Accuracy: 78.85%, BalancedAccuracy: 71.54%, GeometricMean: 69.08%, CohenKappa: 46.29%\n",
      "[15,000] Accuracy: 79.02%, BalancedAccuracy: 71.82%, GeometricMean: 69.42%, CohenKappa: 46.82%\n",
      "[16,000] Accuracy: 79.05%, BalancedAccuracy: 72.26%, GeometricMean: 70.01%, CohenKappa: 47.62%\n",
      "[17,000] Accuracy: 79.04%, BalancedAccuracy: 72.52%, GeometricMean: 70.43%, CohenKappa: 47.95%\n",
      "[18,000] Accuracy: 78.75%, BalancedAccuracy: 72.73%, GeometricMean: 70.90%, CohenKappa: 47.99%\n",
      "[18,159] Accuracy: 78.71%, BalancedAccuracy: 72.68%, GeometricMean: 70.85%, CohenKappa: 47.86%\n"
     ]
    },
    {
     "data": {
      "text/plain": [
       "Accuracy: 78.71%, BalancedAccuracy: 72.68%, GeometricMean: 70.85%, CohenKappa: 47.86%"
      ]
     },
     "execution_count": 4,
     "metadata": {},
     "output_type": "execute_result"
    }
   ],
   "source": [
    "from river.ensemble import LeveragingBaggingClassifier\n",
    "from river.tree import HoeffdingTreeClassifier\n",
    "\n",
    "model = LeveragingBaggingClassifier(model=HoeffdingTreeClassifier(),\n",
    "                          n_models=10,\n",
    "                          seed=42)\n",
    "metrics = Metrics(metrics=[Accuracy(),BalancedAccuracy(),GeometricMean(),CohenKappa()])\n",
    "stream = iter_pandas(X=data[features], y=data['rain'])\n",
    "\n",
    "progressive_val_score(dataset=stream,\n",
    "                      model=model,\n",
    "                      metric=metrics,\n",
    "                      print_every=1000)"
   ]
  },
  {
   "cell_type": "markdown",
   "metadata": {},
   "source": [
    "## AdaptiveRandomForest\n",
    "---\n",
    "\n",
    "\n",
    "\n",
    "The 3 most important aspects of [ARF](https://riverml.xyz/latest/api/ensemble/AdaptiveRandomForestClassifier/) are:\n",
    "- inducing diversity through re-sampling\n",
    "- inducing diversity through randomly selecting subsets of features for node splits\n",
    "- drift detectors per base tree, which cause selective resets in response to drifts\n",
    "\n",
    "It also allows training background trees, which start training if a warning is detected and replace the active tree if the warning escalates to a drift."
   ]
  },
  {
   "cell_type": "code",
   "execution_count": 6,
   "metadata": {},
   "outputs": [
    {
     "name": "stdout",
     "output_type": "stream",
     "text": [
      "[1,000] Accuracy: 74.97%, BalancedAccuracy: 67.35%, GeometricMean: 63.67%, CohenKappa: 37.88%\n",
      "[2,000] Accuracy: 76.54%, BalancedAccuracy: 67.11%, GeometricMean: 62.85%, CohenKappa: 37.97%\n",
      "[3,000] Accuracy: 77.53%, BalancedAccuracy: 67.12%, GeometricMean: 62.42%, CohenKappa: 38.51%\n",
      "[4,000] Accuracy: 77.44%, BalancedAccuracy: 67.20%, GeometricMean: 62.38%, CohenKappa: 38.82%\n",
      "[5,000] Accuracy: 77.60%, BalancedAccuracy: 67.48%, GeometricMean: 62.70%, CohenKappa: 39.46%\n",
      "[6,000] Accuracy: 77.65%, BalancedAccuracy: 68.13%, GeometricMean: 63.91%, CohenKappa: 40.45%\n",
      "[7,000] Accuracy: 78.03%, BalancedAccuracy: 68.75%, GeometricMean: 64.86%, CohenKappa: 41.59%\n",
      "[8,000] Accuracy: 77.76%, BalancedAccuracy: 68.74%, GeometricMean: 64.95%, CohenKappa: 41.42%\n",
      "[9,000] Accuracy: 77.74%, BalancedAccuracy: 68.69%, GeometricMean: 64.78%, CohenKappa: 41.44%\n",
      "[10,000] Accuracy: 77.89%, BalancedAccuracy: 68.73%, GeometricMean: 64.79%, CohenKappa: 41.58%\n",
      "[11,000] Accuracy: 78.20%, BalancedAccuracy: 68.95%, GeometricMean: 65.07%, CohenKappa: 42.06%\n",
      "[12,000] Accuracy: 78.33%, BalancedAccuracy: 68.97%, GeometricMean: 65.13%, CohenKappa: 42.08%\n",
      "[13,000] Accuracy: 78.37%, BalancedAccuracy: 69.21%, GeometricMean: 65.44%, CohenKappa: 42.58%\n",
      "[14,000] Accuracy: 78.12%, BalancedAccuracy: 69.30%, GeometricMean: 65.55%, CohenKappa: 42.73%\n",
      "[15,000] Accuracy: 78.21%, BalancedAccuracy: 69.37%, GeometricMean: 65.59%, CohenKappa: 42.93%\n",
      "[16,000] Accuracy: 78.16%, BalancedAccuracy: 69.75%, GeometricMean: 66.14%, CohenKappa: 43.63%\n",
      "[17,000] Accuracy: 78.16%, BalancedAccuracy: 70.09%, GeometricMean: 66.75%, CohenKappa: 44.10%\n",
      "[18,000] Accuracy: 77.92%, BalancedAccuracy: 70.47%, GeometricMean: 67.54%, CohenKappa: 44.43%\n",
      "[18,159] Accuracy: 77.89%, BalancedAccuracy: 70.43%, GeometricMean: 67.52%, CohenKappa: 44.32%\n"
     ]
    },
    {
     "data": {
      "text/plain": [
       "Accuracy: 77.89%, BalancedAccuracy: 70.43%, GeometricMean: 67.52%, CohenKappa: 44.32%"
      ]
     },
     "execution_count": 6,
     "metadata": {},
     "output_type": "execute_result"
    }
   ],
   "source": [
    "from river.forest import ARFClassifier\n",
    "\n",
    "model = ARFClassifier(n_models=10)\n",
    "metrics = Metrics(metrics=[Accuracy(),BalancedAccuracy(),GeometricMean(),CohenKappa()])\n",
    "stream = iter_pandas(X=data[features], y=data['rain'])\n",
    "\n",
    "progressive_val_score(dataset=stream,\n",
    "                      model=model,\n",
    "                      metric=metrics,\n",
    "                      print_every=1000)"
   ]
  },
  {
   "cell_type": "markdown",
   "metadata": {},
   "source": [
    "## StreamingRandomPatches\n",
    "---\n",
    "[SRP](https://riverml.xyz/latest/api/ensemble/SRPClassifier/) is an ensemble method that simulates bagging or random subspaces. The default algorithm uses both bagging and random subspaces, namely Random Patches. The default base estimator is a Hoeffding Tree, but other base estimators can be used (differently from random forest variations)."
   ]
  },
  {
   "cell_type": "code",
   "execution_count": 7,
   "metadata": {
    "scrolled": true
   },
   "outputs": [
    {
     "name": "stdout",
     "output_type": "stream",
     "text": [
      "[1,000] Accuracy: 72.97%, BalancedAccuracy: 65.15%, GeometricMean: 61.14%, CohenKappa: 33.02%\n",
      "[2,000] Accuracy: 75.09%, BalancedAccuracy: 65.36%, GeometricMean: 60.68%, CohenKappa: 34.10%\n",
      "[3,000] Accuracy: 76.53%, BalancedAccuracy: 65.39%, GeometricMean: 59.82%, CohenKappa: 35.02%\n",
      "[4,000] Accuracy: 76.84%, BalancedAccuracy: 66.08%, GeometricMean: 60.65%, CohenKappa: 36.63%\n",
      "[5,000] Accuracy: 76.92%, BalancedAccuracy: 66.32%, GeometricMean: 60.95%, CohenKappa: 37.13%\n",
      "[6,000] Accuracy: 77.28%, BalancedAccuracy: 67.00%, GeometricMean: 61.96%, CohenKappa: 38.52%\n",
      "[7,000] Accuracy: 77.81%, BalancedAccuracy: 67.72%, GeometricMean: 63.02%, CohenKappa: 40.00%\n",
      "[8,000] Accuracy: 77.60%, BalancedAccuracy: 67.90%, GeometricMean: 63.44%, CohenKappa: 40.13%\n",
      "[9,000] Accuracy: 77.72%, BalancedAccuracy: 68.02%, GeometricMean: 63.48%, CohenKappa: 40.54%\n",
      "[10,000] Accuracy: 77.85%, BalancedAccuracy: 68.17%, GeometricMean: 63.71%, CohenKappa: 40.80%\n",
      "[11,000] Accuracy: 78.16%, BalancedAccuracy: 68.37%, GeometricMean: 63.97%, CohenKappa: 41.27%\n",
      "[12,000] Accuracy: 78.23%, BalancedAccuracy: 68.24%, GeometricMean: 63.79%, CohenKappa: 41.01%\n",
      "[13,000] Accuracy: 78.24%, BalancedAccuracy: 68.48%, GeometricMean: 64.13%, CohenKappa: 41.49%\n",
      "[14,000] Accuracy: 78.03%, BalancedAccuracy: 68.65%, GeometricMean: 64.35%, CohenKappa: 41.79%\n",
      "[15,000] Accuracy: 78.15%, BalancedAccuracy: 68.79%, GeometricMean: 64.50%, CohenKappa: 42.12%\n",
      "[16,000] Accuracy: 78.14%, BalancedAccuracy: 69.25%, GeometricMean: 65.17%, CohenKappa: 42.98%\n",
      "[17,000] Accuracy: 78.24%, BalancedAccuracy: 69.59%, GeometricMean: 65.71%, CohenKappa: 43.57%\n",
      "[18,000] Accuracy: 78.13%, BalancedAccuracy: 70.01%, GeometricMean: 66.51%, CohenKappa: 44.11%\n",
      "[18,159] Accuracy: 78.16%, BalancedAccuracy: 70.02%, GeometricMean: 66.51%, CohenKappa: 44.12%\n"
     ]
    },
    {
     "data": {
      "text/plain": [
       "Accuracy: 78.16%, BalancedAccuracy: 70.02%, GeometricMean: 66.51%, CohenKappa: 44.12%"
      ]
     },
     "execution_count": 7,
     "metadata": {},
     "output_type": "execute_result"
    }
   ],
   "source": [
    "from river.ensemble import SRPClassifier\n",
    "from river.tree import HoeffdingTreeClassifier\n",
    "\n",
    "model = SRPClassifier(model=HoeffdingTreeClassifier(),\n",
    "                      n_models=10,\n",
    "                      seed=42)\n",
    "metrics = Metrics(metrics=[Accuracy(),BalancedAccuracy(),GeometricMean(),CohenKappa()])\n",
    "stream = iter_pandas(X=data[features], y=data['rain'])\n",
    "\n",
    "progressive_val_score(dataset=stream, \n",
    "                      model=model, \n",
    "                      metric=metrics, \n",
    "                      print_every=1000)"
   ]
  },
  {
   "cell_type": "markdown",
   "metadata": {},
   "source": [
    "## Concept Drift Impact\n",
    "\n",
    "Concept drift can negatively impact learning methods if not properly handled. Multiple real-world applications suffer **model degradation** as the models can not adapt to changes in the data.\n",
    "\n",
    "---\n",
    "## `AGRAWAL` dataset\n",
    "\n",
    "We will load the data from a csv file. The data was generated using the `AGRAWAL` data generator with 3 **gradual drifts** at the 5k, 10k, and 15k marks. It contains 9 features, 6 numeric and 3 categorical.\n",
    "\n",
    "There are 10 functions for generating binary class labels from the features. These functions determine whether a **loan** should be approved.\n",
    "\n",
    "| Feature    | Description            | Values                                                                |\n",
    "|------------|------------------------|-----------------------------------------------------------------------|\n",
    "| `salary`     | salary                 | uniformly distributed from 20k to 150k                                |\n",
    "| `commission` | commission             | if (salary <   75k) then 0 else uniformly distributed from 10k to 75k |\n",
    "| `age`        | age                    | uniformly distributed from 20 to 80                                   |\n",
    "| `elevel`     | education level        | uniformly chosen from 0 to 4                                          |\n",
    "| `car`        | car maker              | uniformly chosen from 1 to 20                                         |\n",
    "| `zipcode`    | zip code of the town   | uniformly chosen from 0 to 8                                          |\n",
    "| `hvalue`     | value of the house     | uniformly distributed from 50k x zipcode to 100k x zipcode            |\n",
    "| `hyears`     | years house owned      | uniformly distributed from 1 to 30                                    |\n",
    "| `loan`       | total loan amount      | uniformly distributed from 0 to 500k                                  |\n",
    "\n",
    "**Class:** `y` | 0: no loan, 1: loan\n",
    " \n",
    "**Samples:** 20,000\n",
    "\n",
    "`elevel`, `car`, and `zipcode` are categorical features."
   ]
  },
  {
   "cell_type": "code",
   "execution_count": 8,
   "metadata": {},
   "outputs": [],
   "source": [
    "data = pd.read_csv(\"../datasets/agr_a_20k.csv\")\n",
    "features = data.columns[:-1]"
   ]
  },
  {
   "cell_type": "markdown",
   "metadata": {},
   "source": [
    "## ADWIN Online Bagging\n",
    "\n",
    "---\n",
    "[ADWIN Online Bagging](https://riverml.xyz/latest/api/ensemble/ADWINBaggingClassifier/) is the online bagging method with the addition of the ADWIN algorithm as a change detector. If concept drift is detected, the worst member of the ensemble (based on the error estimation by ADWIN) is replaced by a new (empty) classifier."
   ]
  },
  {
   "cell_type": "raw",
   "metadata": {},
   "source": [
    "from river.ensemble import ADWINBaggingClassifier\n",
    "from river.tree import HoeffdingTreeClassifier\n",
    "\n",
    "model = ADWINBaggingClassifier(model=HoeffdingTreeClassifier(nominal_attributes=['elevel', 'car', 'zipcode']),\n",
    "                          n_models=10,\n",
    "                          seed=42)\n",
    "metrics = Metrics(metrics=[Accuracy(),BalancedAccuracy(),GeometricMean(),CohenKappa()])\n",
    "stream = iter_pandas(X=data[features], y=data['class'])\n",
    "\n",
    "progressive_val_score(dataset=stream,\n",
    "                      model=model,\n",
    "                      metric=metrics,\n",
    "                      print_every=1000)"
   ]
  },
  {
   "cell_type": "code",
   "execution_count": 9,
   "metadata": {
    "scrolled": true
   },
   "outputs": [
    {
     "name": "stdout",
     "output_type": "stream",
     "text": [
      "[500] Accuracy: 79.16%, BalancedAccuracy: 71.24%, GeometricMean: 67.10%, CohenKappa: 47.58%\n",
      "[1,000] Accuracy: 84.00%, BalancedAccuracy: 76.81%, GeometricMean: 73.77%, CohenKappa: 59.78%\n",
      "[1,500] Accuracy: 88.40%, BalancedAccuracy: 86.09%, GeometricMean: 85.72%, CohenKappa: 74.05%\n",
      "[2,000] Accuracy: 92.20%, BalancedAccuracy: 92.95%, GeometricMean: 92.92%, CohenKappa: 83.17%\n",
      "[2,500] Accuracy: 89.00%, BalancedAccuracy: 87.97%, GeometricMean: 87.93%, CohenKappa: 75.09%\n",
      "[3,000] Accuracy: 92.60%, BalancedAccuracy: 92.35%, GeometricMean: 92.35%, CohenKappa: 83.59%\n",
      "[3,500] Accuracy: 92.00%, BalancedAccuracy: 92.96%, GeometricMean: 92.92%, CohenKappa: 82.07%\n",
      "[4,000] Accuracy: 92.60%, BalancedAccuracy: 91.02%, GeometricMean: 90.91%, CohenKappa: 82.73%\n",
      "[4,500] Accuracy: 90.20%, BalancedAccuracy: 88.54%, GeometricMean: 88.40%, CohenKappa: 77.88%\n",
      "[5,000] Accuracy: 89.20%, BalancedAccuracy: 87.44%, GeometricMean: 87.26%, CohenKappa: 75.73%\n",
      "[5,500] Accuracy: 52.80%, BalancedAccuracy: 55.21%, GeometricMean: 53.48%, CohenKappa: 9.67%\n",
      "[6,000] Accuracy: 64.80%, BalancedAccuracy: 64.48%, GeometricMean: 64.46%, CohenKappa: 28.20%\n",
      "[6,500] Accuracy: 66.00%, BalancedAccuracy: 63.91%, GeometricMean: 63.41%, CohenKappa: 27.56%\n",
      "[7,000] Accuracy: 70.40%, BalancedAccuracy: 68.77%, GeometricMean: 68.35%, CohenKappa: 37.68%\n",
      "[7,500] Accuracy: 68.00%, BalancedAccuracy: 65.89%, GeometricMean: 64.88%, CohenKappa: 32.42%\n",
      "[8,000] Accuracy: 67.40%, BalancedAccuracy: 64.49%, GeometricMean: 63.45%, CohenKappa: 29.39%\n",
      "[8,500] Accuracy: 63.80%, BalancedAccuracy: 60.99%, GeometricMean: 59.99%, CohenKappa: 22.10%\n",
      "[9,000] Accuracy: 66.40%, BalancedAccuracy: 64.01%, GeometricMean: 63.31%, CohenKappa: 28.09%\n",
      "[9,500] Accuracy: 64.40%, BalancedAccuracy: 62.79%, GeometricMean: 62.31%, CohenKappa: 25.58%\n",
      "[10,000] Accuracy: 67.00%, BalancedAccuracy: 65.09%, GeometricMean: 64.51%, CohenKappa: 30.32%\n",
      "[10,500] Accuracy: 51.80%, BalancedAccuracy: 54.56%, GeometricMean: 53.92%, CohenKappa: 7.76%\n",
      "[11,000] Accuracy: 55.60%, BalancedAccuracy: 56.31%, GeometricMean: 56.27%, CohenKappa: 11.20%\n",
      "[11,500] Accuracy: 65.40%, BalancedAccuracy: 64.77%, GeometricMean: 64.74%, CohenKappa: 28.19%\n",
      "[12,000] Accuracy: 62.80%, BalancedAccuracy: 58.87%, GeometricMean: 57.61%, CohenKappa: 17.59%\n",
      "[12,500] Accuracy: 75.20%, BalancedAccuracy: 68.93%, GeometricMean: 66.54%, CohenKappa: 40.15%\n",
      "[13,000] Accuracy: 77.00%, BalancedAccuracy: 68.38%, GeometricMean: 63.51%, CohenKappa: 41.41%\n",
      "[13,500] Accuracy: 83.20%, BalancedAccuracy: 76.93%, GeometricMean: 75.22%, CohenKappa: 57.66%\n",
      "[14,000] Accuracy: 88.60%, BalancedAccuracy: 86.37%, GeometricMean: 86.15%, CohenKappa: 73.59%\n",
      "[14,500] Accuracy: 87.20%, BalancedAccuracy: 84.42%, GeometricMean: 84.00%, CohenKappa: 70.52%\n",
      "[15,000] Accuracy: 83.20%, BalancedAccuracy: 79.43%, GeometricMean: 78.43%, CohenKappa: 61.45%\n",
      "[15,500] Accuracy: 62.80%, BalancedAccuracy: 65.07%, GeometricMean: 63.72%, CohenKappa: 28.22%\n",
      "[16,000] Accuracy: 66.80%, BalancedAccuracy: 68.48%, GeometricMean: 67.92%, CohenKappa: 34.90%\n",
      "[16,500] Accuracy: 67.80%, BalancedAccuracy: 69.46%, GeometricMean: 69.23%, CohenKappa: 35.60%\n",
      "[17,000] Accuracy: 68.20%, BalancedAccuracy: 69.56%, GeometricMean: 69.34%, CohenKappa: 36.65%\n",
      "[17,500] Accuracy: 70.80%, BalancedAccuracy: 72.55%, GeometricMean: 71.98%, CohenKappa: 42.66%\n",
      "[18,000] Accuracy: 72.20%, BalancedAccuracy: 72.50%, GeometricMean: 72.49%, CohenKappa: 43.06%\n",
      "[18,500] Accuracy: 64.20%, BalancedAccuracy: 65.82%, GeometricMean: 65.61%, CohenKappa: 28.58%\n",
      "[19,000] Accuracy: 69.60%, BalancedAccuracy: 69.98%, GeometricMean: 69.96%, CohenKappa: 38.43%\n",
      "[19,500] Accuracy: 71.00%, BalancedAccuracy: 70.56%, GeometricMean: 70.53%, CohenKappa: 39.84%\n",
      "[20,000] Accuracy: 71.20%, BalancedAccuracy: 70.50%, GeometricMean: 70.44%, CohenKappa: 40.20%\n"
     ]
    },
    {
     "data": {
      "text/plain": [
       "Accuracy: 71.20%, BalancedAccuracy: 70.50%, GeometricMean: 70.44%, CohenKappa: 40.20%"
      ]
     },
     "execution_count": 9,
     "metadata": {},
     "output_type": "execute_result"
    }
   ],
   "source": [
    "from river.ensemble import ADWINBaggingClassifier\n",
    "from river.tree import HoeffdingTreeClassifier\n",
    "\n",
    "model = ADWINBaggingClassifier(model=HoeffdingTreeClassifier(nominal_attributes=['elevel', 'car', 'zipcode']),\n",
    "                          n_models=10,\n",
    "                          seed=42)\n",
    "metrics = Rolling(Metrics(metrics=[Accuracy(),BalancedAccuracy(),GeometricMean(),CohenKappa()]),window_size=500)\n",
    "stream = iter_pandas(X=data[features], y=data['class'])\n",
    "\n",
    "progressive_val_score(dataset=stream,\n",
    "                      model=model,\n",
    "                      metric=metrics,\n",
    "                      print_every=500)"
   ]
  },
  {
   "cell_type": "markdown",
   "metadata": {},
   "source": [
    "## Leveraging Bagging"
   ]
  },
  {
   "cell_type": "raw",
   "metadata": {},
   "source": [
    "from river.ensemble import LeveragingBaggingClassifier\n",
    "from river.tree import HoeffdingTreeClassifier\n",
    "\n",
    "model = LeveragingBaggingClassifier(model=HoeffdingTreeClassifier(nominal_attributes=['elevel', 'car', 'zipcode']),\n",
    "                          n_models=10,\n",
    "                          seed=42)\n",
    "metrics = Metrics(metrics=[Accuracy(),BalancedAccuracy(),GeometricMean(),CohenKappa()])\n",
    "stream = iter_pandas(X=data[features], y=data['class'])\n",
    "\n",
    "progressive_val_score(dataset=stream,\n",
    "                      model=model,\n",
    "                      metric=metrics,\n",
    "                      print_every=1000)"
   ]
  },
  {
   "cell_type": "code",
   "execution_count": 10,
   "metadata": {
    "scrolled": true
   },
   "outputs": [
    {
     "name": "stdout",
     "output_type": "stream",
     "text": [
      "[500] Accuracy: 70.14%, BalancedAccuracy: 62.38%, GeometricMean: 57.80%, CohenKappa: 26.97%\n",
      "[1,000] Accuracy: 76.20%, BalancedAccuracy: 68.70%, GeometricMean: 64.98%, CohenKappa: 41.08%\n",
      "[1,500] Accuracy: 81.60%, BalancedAccuracy: 76.42%, GeometricMean: 74.27%, CohenKappa: 56.84%\n",
      "[2,000] Accuracy: 83.60%, BalancedAccuracy: 77.74%, GeometricMean: 75.55%, CohenKappa: 60.29%\n",
      "[2,500] Accuracy: 83.80%, BalancedAccuracy: 78.60%, GeometricMean: 77.22%, CohenKappa: 60.65%\n",
      "[3,000] Accuracy: 84.80%, BalancedAccuracy: 79.93%, GeometricMean: 78.58%, CohenKappa: 63.66%\n",
      "[3,500] Accuracy: 87.00%, BalancedAccuracy: 81.78%, GeometricMean: 80.64%, CohenKappa: 67.58%\n",
      "[4,000] Accuracy: 88.60%, BalancedAccuracy: 84.52%, GeometricMean: 83.78%, CohenKappa: 72.36%\n",
      "[4,500] Accuracy: 87.00%, BalancedAccuracy: 83.38%, GeometricMean: 82.62%, CohenKappa: 69.68%\n",
      "[5,000] Accuracy: 89.40%, BalancedAccuracy: 87.17%, GeometricMean: 86.89%, CohenKappa: 75.94%\n",
      "[5,500] Accuracy: 55.80%, BalancedAccuracy: 56.31%, GeometricMean: 56.24%, CohenKappa: 12.16%\n",
      "[6,000] Accuracy: 63.20%, BalancedAccuracy: 60.85%, GeometricMean: 59.83%, CohenKappa: 21.97%\n",
      "[6,500] Accuracy: 60.80%, BalancedAccuracy: 55.93%, GeometricMean: 52.81%, CohenKappa: 12.34%\n",
      "[7,000] Accuracy: 63.00%, BalancedAccuracy: 59.78%, GeometricMean: 57.90%, CohenKappa: 20.13%\n",
      "[7,500] Accuracy: 64.80%, BalancedAccuracy: 62.88%, GeometricMean: 62.01%, CohenKappa: 26.12%\n",
      "[8,000] Accuracy: 68.00%, BalancedAccuracy: 65.51%, GeometricMean: 64.76%, CohenKappa: 31.22%\n",
      "[8,500] Accuracy: 68.60%, BalancedAccuracy: 66.67%, GeometricMean: 66.24%, CohenKappa: 33.16%\n",
      "[9,000] Accuracy: 70.60%, BalancedAccuracy: 68.34%, GeometricMean: 67.74%, CohenKappa: 36.87%\n",
      "[9,500] Accuracy: 72.00%, BalancedAccuracy: 69.95%, GeometricMean: 69.25%, CohenKappa: 40.54%\n",
      "[10,000] Accuracy: 67.60%, BalancedAccuracy: 65.58%, GeometricMean: 64.94%, CohenKappa: 31.40%\n",
      "[10,500] Accuracy: 50.80%, BalancedAccuracy: 54.26%, GeometricMean: 53.25%, CohenKappa: 7.15%\n",
      "[11,000] Accuracy: 54.00%, BalancedAccuracy: 55.12%, GeometricMean: 55.02%, CohenKappa: 8.98%\n",
      "[11,500] Accuracy: 77.80%, BalancedAccuracy: 74.68%, GeometricMean: 73.87%, CohenKappa: 50.54%\n",
      "[12,000] Accuracy: 79.40%, BalancedAccuracy: 73.44%, GeometricMean: 71.09%, CohenKappa: 50.45%\n",
      "[12,500] Accuracy: 78.60%, BalancedAccuracy: 74.31%, GeometricMean: 73.27%, CohenKappa: 49.96%\n",
      "[13,000] Accuracy: 83.60%, BalancedAccuracy: 78.84%, GeometricMean: 77.59%, CohenKappa: 60.87%\n",
      "[13,500] Accuracy: 83.40%, BalancedAccuracy: 77.08%, GeometricMean: 75.34%, CohenKappa: 58.08%\n",
      "[14,000] Accuracy: 87.60%, BalancedAccuracy: 84.33%, GeometricMean: 83.83%, CohenKappa: 70.74%\n",
      "[14,500] Accuracy: 86.60%, BalancedAccuracy: 83.82%, GeometricMean: 83.40%, CohenKappa: 69.19%\n",
      "[15,000] Accuracy: 86.00%, BalancedAccuracy: 82.64%, GeometricMean: 81.87%, CohenKappa: 67.96%\n",
      "[15,500] Accuracy: 53.80%, BalancedAccuracy: 55.40%, GeometricMean: 54.61%, CohenKappa: 10.20%\n",
      "[16,000] Accuracy: 70.60%, BalancedAccuracy: 69.28%, GeometricMean: 68.93%, CohenKappa: 38.71%\n",
      "[16,500] Accuracy: 69.80%, BalancedAccuracy: 67.30%, GeometricMean: 66.76%, CohenKappa: 34.39%\n",
      "[17,000] Accuracy: 67.80%, BalancedAccuracy: 64.57%, GeometricMean: 63.19%, CohenKappa: 29.85%\n",
      "[17,500] Accuracy: 71.20%, BalancedAccuracy: 69.06%, GeometricMean: 68.16%, CohenKappa: 38.93%\n",
      "[18,000] Accuracy: 73.80%, BalancedAccuracy: 71.91%, GeometricMean: 71.53%, CohenKappa: 43.86%\n",
      "[18,500] Accuracy: 74.20%, BalancedAccuracy: 72.79%, GeometricMean: 72.64%, CohenKappa: 44.43%\n",
      "[19,000] Accuracy: 73.20%, BalancedAccuracy: 71.69%, GeometricMean: 71.37%, CohenKappa: 43.46%\n",
      "[19,500] Accuracy: 70.40%, BalancedAccuracy: 67.78%, GeometricMean: 67.00%, CohenKappa: 35.95%\n",
      "[20,000] Accuracy: 71.20%, BalancedAccuracy: 69.00%, GeometricMean: 68.37%, CohenKappa: 38.39%\n"
     ]
    },
    {
     "data": {
      "text/plain": [
       "Accuracy: 71.20%, BalancedAccuracy: 69.00%, GeometricMean: 68.37%, CohenKappa: 38.39%"
      ]
     },
     "execution_count": 10,
     "metadata": {},
     "output_type": "execute_result"
    }
   ],
   "source": [
    "from river.ensemble import LeveragingBaggingClassifier\n",
    "from river.tree import HoeffdingTreeClassifier\n",
    "\n",
    "model = LeveragingBaggingClassifier(model=HoeffdingTreeClassifier(nominal_attributes=['elevel', 'car', 'zipcode']),\n",
    "                          n_models=10,\n",
    "                          seed=42)\n",
    "metrics = Rolling(Metrics(metrics=[Accuracy(),BalancedAccuracy(),GeometricMean(),CohenKappa()]),window_size=500)\n",
    "stream = iter_pandas(X=data[features], y=data['class'])\n",
    "\n",
    "progressive_val_score(dataset=stream,\n",
    "                      model=model,\n",
    "                      metric=metrics,\n",
    "                      print_every=500)"
   ]
  },
  {
   "cell_type": "markdown",
   "metadata": {},
   "source": [
    "## AdaptiveRandomForest"
   ]
  },
  {
   "cell_type": "raw",
   "metadata": {},
   "source": [
    "from river.ensemble import AdaptiveRandomForestClassifier\n",
    "\n",
    "model = AdaptiveRandomForestClassifier(n_models=10,nominal_attributes=['elevel', 'car', 'zipcode'])\n",
    "metrics = Metrics(metrics=[Accuracy(),BalancedAccuracy(),GeometricMean(),CohenKappa()])\n",
    "stream = iter_pandas(X=data[features], y=data['class'])\n",
    "\n",
    "progressive_val_score(dataset=stream,\n",
    "                      model=model,\n",
    "                      metric=metrics,\n",
    "                      print_every=1000)"
   ]
  },
  {
   "cell_type": "code",
   "execution_count": 12,
   "metadata": {
    "scrolled": true
   },
   "outputs": [
    {
     "name": "stdout",
     "output_type": "stream",
     "text": [
      "[500] Accuracy: 69.34%, BalancedAccuracy: 61.33%, GeometricMean: 56.35%, CohenKappa: 24.77%\n",
      "[1,000] Accuracy: 71.00%, BalancedAccuracy: 61.17%, GeometricMean: 53.73%, CohenKappa: 25.47%\n",
      "[1,500] Accuracy: 74.40%, BalancedAccuracy: 66.81%, GeometricMean: 61.39%, CohenKappa: 37.58%\n",
      "[2,000] Accuracy: 75.00%, BalancedAccuracy: 65.37%, GeometricMean: 58.04%, CohenKappa: 35.57%\n",
      "[2,500] Accuracy: 75.60%, BalancedAccuracy: 66.51%, GeometricMean: 61.42%, CohenKappa: 37.15%\n",
      "[3,000] Accuracy: 78.80%, BalancedAccuracy: 71.55%, GeometricMean: 68.13%, CohenKappa: 47.49%\n",
      "[3,500] Accuracy: 79.00%, BalancedAccuracy: 70.05%, GeometricMean: 66.06%, CohenKappa: 44.88%\n",
      "[4,000] Accuracy: 80.20%, BalancedAccuracy: 71.91%, GeometricMean: 68.28%, CohenKappa: 48.89%\n",
      "[4,500] Accuracy: 77.60%, BalancedAccuracy: 69.62%, GeometricMean: 65.11%, CohenKappa: 43.94%\n",
      "[5,000] Accuracy: 77.80%, BalancedAccuracy: 70.07%, GeometricMean: 65.66%, CohenKappa: 44.87%\n",
      "[5,500] Accuracy: 49.20%, BalancedAccuracy: 52.73%, GeometricMean: 48.76%, CohenKappa: 4.96%\n",
      "[6,000] Accuracy: 53.20%, BalancedAccuracy: 55.44%, GeometricMean: 54.42%, CohenKappa: 9.99%\n",
      "[6,500] Accuracy: 57.60%, BalancedAccuracy: 53.40%, GeometricMean: 50.98%, CohenKappa: 6.95%\n",
      "[7,000] Accuracy: 68.60%, BalancedAccuracy: 63.57%, GeometricMean: 59.16%, CohenKappa: 29.18%\n",
      "[7,500] Accuracy: 61.00%, BalancedAccuracy: 55.63%, GeometricMean: 47.38%, CohenKappa: 12.25%\n",
      "[8,000] Accuracy: 64.60%, BalancedAccuracy: 58.27%, GeometricMean: 52.58%, CohenKappa: 17.95%\n",
      "[8,500] Accuracy: 65.40%, BalancedAccuracy: 59.19%, GeometricMean: 54.00%, CohenKappa: 19.89%\n",
      "[9,000] Accuracy: 67.20%, BalancedAccuracy: 61.10%, GeometricMean: 56.10%, CohenKappa: 24.07%\n",
      "[9,500] Accuracy: 62.60%, BalancedAccuracy: 57.21%, GeometricMean: 51.01%, CohenKappa: 15.58%\n",
      "[10,000] Accuracy: 65.40%, BalancedAccuracy: 59.89%, GeometricMean: 54.42%, CohenKappa: 21.39%\n",
      "[10,500] Accuracy: 46.00%, BalancedAccuracy: 53.49%, GeometricMean: 48.50%, CohenKappa: 5.44%\n",
      "[11,000] Accuracy: 50.80%, BalancedAccuracy: 54.84%, GeometricMean: 53.51%, CohenKappa: 8.03%\n",
      "[11,500] Accuracy: 55.20%, BalancedAccuracy: 57.20%, GeometricMean: 56.77%, CohenKappa: 12.87%\n",
      "[12,000] Accuracy: 65.00%, BalancedAccuracy: 62.27%, GeometricMean: 61.70%, CohenKappa: 23.88%\n",
      "[12,500] Accuracy: 72.60%, BalancedAccuracy: 69.70%, GeometricMean: 69.19%, CohenKappa: 38.72%\n",
      "[13,000] Accuracy: 75.40%, BalancedAccuracy: 71.80%, GeometricMean: 71.02%, CohenKappa: 43.94%\n",
      "[13,500] Accuracy: 76.40%, BalancedAccuracy: 70.57%, GeometricMean: 68.96%, CohenKappa: 42.55%\n",
      "[14,000] Accuracy: 80.20%, BalancedAccuracy: 74.96%, GeometricMean: 73.50%, CohenKappa: 52.40%\n",
      "[14,500] Accuracy: 85.80%, BalancedAccuracy: 81.58%, GeometricMean: 80.58%, CohenKappa: 66.43%\n",
      "[15,000] Accuracy: 83.40%, BalancedAccuracy: 78.26%, GeometricMean: 76.37%, CohenKappa: 60.78%\n",
      "[15,500] Accuracy: 50.40%, BalancedAccuracy: 53.78%, GeometricMean: 50.06%, CohenKappa: 6.89%\n",
      "[16,000] Accuracy: 59.20%, BalancedAccuracy: 60.67%, GeometricMean: 60.18%, CohenKappa: 20.12%\n",
      "[16,500] Accuracy: 65.80%, BalancedAccuracy: 63.57%, GeometricMean: 63.11%, CohenKappa: 26.63%\n",
      "[17,000] Accuracy: 65.20%, BalancedAccuracy: 61.54%, GeometricMean: 59.69%, CohenKappa: 23.78%\n",
      "[17,500] Accuracy: 70.20%, BalancedAccuracy: 67.98%, GeometricMean: 67.00%, CohenKappa: 36.76%\n",
      "[18,000] Accuracy: 71.60%, BalancedAccuracy: 68.73%, GeometricMean: 67.81%, CohenKappa: 38.13%\n",
      "[18,500] Accuracy: 73.00%, BalancedAccuracy: 69.83%, GeometricMean: 69.07%, CohenKappa: 39.93%\n",
      "[19,000] Accuracy: 71.60%, BalancedAccuracy: 68.97%, GeometricMean: 67.96%, CohenKappa: 38.81%\n",
      "[19,500] Accuracy: 71.60%, BalancedAccuracy: 68.73%, GeometricMean: 67.81%, CohenKappa: 38.13%\n",
      "[20,000] Accuracy: 70.00%, BalancedAccuracy: 66.03%, GeometricMean: 63.85%, CohenKappa: 33.54%\n"
     ]
    },
    {
     "data": {
      "text/plain": [
       "Accuracy: 70.00%, BalancedAccuracy: 66.03%, GeometricMean: 63.85%, CohenKappa: 33.54%"
      ]
     },
     "execution_count": 12,
     "metadata": {},
     "output_type": "execute_result"
    }
   ],
   "source": [
    "from river.forest import ARFClassifier\n",
    "\n",
    "model = ARFClassifier(n_models=10,nominal_attributes=['elevel', 'car', 'zipcode'])\n",
    "metrics = Rolling(Metrics(metrics=[Accuracy(),BalancedAccuracy(),GeometricMean(),CohenKappa()]),window_size=500)\n",
    "stream = iter_pandas(X=data[features], y=data['class'])\n",
    "\n",
    "progressive_val_score(dataset=stream,\n",
    "                      model=model,\n",
    "                      metric=metrics,\n",
    "                      print_every=500)"
   ]
  },
  {
   "cell_type": "markdown",
   "metadata": {},
   "source": [
    "## StreamingRandomPatches\n",
    "---\n",
    "We set the drift and warning detection options"
   ]
  },
  {
   "cell_type": "raw",
   "metadata": {},
   "source": [
    "from river.ensemble import SRPClassifier\n",
    "from river.tree import HoeffdingTreeClassifier\n",
    "from river.drift import ADWIN\n",
    "\n",
    "model = SRPClassifier(model=HoeffdingTreeClassifier(nominal_attributes=['elevel', 'car', 'zipcode']),\n",
    "                      n_models=10,\n",
    "                      drift_detector=ADWIN(delta=0.001),\n",
    "                      warning_detector=ADWIN(delta=0.01),\n",
    "                      seed=42)\n",
    "\n",
    "metrics = Metrics(metrics=[Accuracy(),BalancedAccuracy(),GeometricMean(),CohenKappa()])\n",
    "stream = iter_pandas(X=data[features], y=data['class'])\n",
    "\n",
    "progressive_val_score(dataset=stream, \n",
    "                      model=model, \n",
    "                      metric=metrics, \n",
    "                      print_every=1000)"
   ]
  },
  {
   "cell_type": "code",
   "execution_count": 13,
   "metadata": {},
   "outputs": [
    {
     "name": "stdout",
     "output_type": "stream",
     "text": [
      "[500] Accuracy: 88.58%, BalancedAccuracy: 85.31%, GeometricMean: 84.74%, CohenKappa: 73.36%\n",
      "[1,000] Accuracy: 94.20%, BalancedAccuracy: 93.08%, GeometricMean: 93.02%, CohenKappa: 86.82%\n",
      "[1,500] Accuracy: 93.40%, BalancedAccuracy: 92.11%, GeometricMean: 92.00%, CohenKappa: 85.40%\n",
      "[2,000] Accuracy: 94.60%, BalancedAccuracy: 93.48%, GeometricMean: 93.42%, CohenKappa: 87.85%\n",
      "[2,500] Accuracy: 93.60%, BalancedAccuracy: 93.00%, GeometricMean: 92.98%, CohenKappa: 85.44%\n",
      "[3,000] Accuracy: 93.80%, BalancedAccuracy: 92.81%, GeometricMean: 92.76%, CohenKappa: 86.00%\n",
      "[3,500] Accuracy: 93.60%, BalancedAccuracy: 93.03%, GeometricMean: 93.02%, CohenKappa: 85.15%\n",
      "[4,000] Accuracy: 96.20%, BalancedAccuracy: 96.03%, GeometricMean: 96.03%, CohenKappa: 91.28%\n",
      "[4,500] Accuracy: 93.60%, BalancedAccuracy: 92.56%, GeometricMean: 92.50%, CohenKappa: 85.62%\n",
      "[5,000] Accuracy: 93.80%, BalancedAccuracy: 92.90%, GeometricMean: 92.86%, CohenKappa: 86.17%\n",
      "[5,500] Accuracy: 57.60%, BalancedAccuracy: 56.61%, GeometricMean: 56.33%, CohenKappa: 13.12%\n",
      "[6,000] Accuracy: 60.80%, BalancedAccuracy: 54.60%, GeometricMean: 46.13%, CohenKappa: 10.09%\n",
      "[6,500] Accuracy: 63.40%, BalancedAccuracy: 53.79%, GeometricMean: 39.60%, CohenKappa: 8.79%\n",
      "[7,000] Accuracy: 61.60%, BalancedAccuracy: 53.38%, GeometricMean: 37.41%, CohenKappa: 7.73%\n",
      "[7,500] Accuracy: 58.80%, BalancedAccuracy: 52.18%, GeometricMean: 37.77%, CohenKappa: 4.86%\n",
      "[8,000] Accuracy: 67.40%, BalancedAccuracy: 59.75%, GeometricMean: 51.48%, CohenKappa: 21.89%\n",
      "[8,500] Accuracy: 68.00%, BalancedAccuracy: 59.40%, GeometricMean: 48.99%, CohenKappa: 21.54%\n",
      "[9,000] Accuracy: 63.80%, BalancedAccuracy: 53.86%, GeometricMean: 36.70%, CohenKappa: 9.09%\n",
      "[9,500] Accuracy: 64.20%, BalancedAccuracy: 57.06%, GeometricMean: 45.57%, CohenKappa: 15.87%\n",
      "[10,000] Accuracy: 65.40%, BalancedAccuracy: 57.77%, GeometricMean: 46.19%, CohenKappa: 17.60%\n",
      "[10,500] Accuracy: 45.40%, BalancedAccuracy: 53.04%, GeometricMean: 47.79%, CohenKappa: 4.72%\n",
      "[11,000] Accuracy: 73.60%, BalancedAccuracy: 73.42%, GeometricMean: 73.42%, CohenKappa: 44.04%\n",
      "[11,500] Accuracy: 88.20%, BalancedAccuracy: 84.88%, GeometricMean: 84.07%, CohenKappa: 73.10%\n",
      "[12,000] Accuracy: 86.40%, BalancedAccuracy: 80.90%, GeometricMean: 79.09%, CohenKappa: 67.03%\n",
      "[12,500] Accuracy: 81.40%, BalancedAccuracy: 74.16%, GeometricMean: 71.19%, CohenKappa: 53.31%\n",
      "[13,000] Accuracy: 77.00%, BalancedAccuracy: 65.61%, GeometricMean: 56.42%, CohenKappa: 37.51%\n",
      "[13,500] Accuracy: 71.60%, BalancedAccuracy: 54.51%, GeometricMean: 32.10%, CohenKappa: 11.88%\n",
      "[14,000] Accuracy: 69.20%, BalancedAccuracy: 52.34%, GeometricMean: 22.26%, CohenKappa: 6.21%\n",
      "[14,500] Accuracy: 68.20%, BalancedAccuracy: 52.40%, GeometricMean: 21.89%, CohenKappa: 6.28%\n",
      "[15,000] Accuracy: 65.20%, BalancedAccuracy: 50.55%, GeometricMean: 13.05%, CohenKappa: 1.42%\n",
      "[15,500] Accuracy: 56.00%, BalancedAccuracy: 60.12%, GeometricMean: 55.15%, CohenKappa: 18.24%\n",
      "[16,000] Accuracy: 69.80%, BalancedAccuracy: 67.49%, GeometricMean: 66.40%, CohenKappa: 35.80%\n",
      "[16,500] Accuracy: 73.80%, BalancedAccuracy: 68.23%, GeometricMean: 65.51%, CohenKappa: 38.89%\n",
      "[17,000] Accuracy: 71.60%, BalancedAccuracy: 65.65%, GeometricMean: 60.96%, CohenKappa: 34.14%\n",
      "[17,500] Accuracy: 68.00%, BalancedAccuracy: 62.95%, GeometricMean: 57.18%, CohenKappa: 28.04%\n",
      "[18,000] Accuracy: 68.00%, BalancedAccuracy: 59.84%, GeometricMean: 50.64%, CohenKappa: 22.32%\n",
      "[18,500] Accuracy: 69.20%, BalancedAccuracy: 58.21%, GeometricMean: 46.00%, CohenKappa: 19.44%\n",
      "[19,000] Accuracy: 66.00%, BalancedAccuracy: 57.41%, GeometricMean: 42.73%, CohenKappa: 17.15%\n",
      "[19,500] Accuracy: 65.60%, BalancedAccuracy: 56.28%, GeometricMean: 42.94%, CohenKappa: 14.58%\n",
      "[20,000] Accuracy: 65.00%, BalancedAccuracy: 55.39%, GeometricMean: 37.54%, CohenKappa: 12.69%\n"
     ]
    },
    {
     "data": {
      "text/plain": [
       "Accuracy: 65.00%, BalancedAccuracy: 55.39%, GeometricMean: 37.54%, CohenKappa: 12.69%"
      ]
     },
     "execution_count": 13,
     "metadata": {},
     "output_type": "execute_result"
    }
   ],
   "source": [
    "from river.ensemble import SRPClassifier\n",
    "from river.tree import HoeffdingTreeClassifier\n",
    "from river.drift import ADWIN\n",
    "\n",
    "model = SRPClassifier(model=HoeffdingTreeClassifier(nominal_attributes=['elevel', 'car', 'zipcode']),\n",
    "                      n_models=10,\n",
    "                      drift_detector=ADWIN(delta=0.001),\n",
    "                      warning_detector=ADWIN(delta=0.01),\n",
    "                      seed=42)\n",
    "\n",
    "metrics = Rolling(Metrics(metrics=[Accuracy(),BalancedAccuracy(),GeometricMean(),CohenKappa()]),window_size=500)\n",
    "stream = iter_pandas(X=data[features], y=data['class'])\n",
    "\n",
    "progressive_val_score(dataset=stream, \n",
    "                      model=model, \n",
    "                      metric=metrics, \n",
    "                      print_every=500)"
   ]
  }
 ],
 "metadata": {
  "kernelspec": {
   "display_name": "Python 3 (ipykernel)",
   "language": "python",
   "name": "python3"
  },
  "language_info": {
   "codemirror_mode": {
    "name": "ipython",
    "version": 3
   },
   "file_extension": ".py",
   "mimetype": "text/x-python",
   "name": "python",
   "nbconvert_exporter": "python",
   "pygments_lexer": "ipython3",
   "version": "3.11.5"
  }
 },
 "nbformat": 4,
 "nbformat_minor": 4
}
