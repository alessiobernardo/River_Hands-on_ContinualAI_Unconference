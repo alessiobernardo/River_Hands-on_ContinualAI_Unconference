{
 "cells": [
  {
   "cell_type": "markdown",
   "metadata": {},
   "source": [
    "# Stream Classification\n",
    "---\n",
    "\n",
    "## `NEWeather` dataset\n",
    "\n",
    "**Description:** The National Oceanic and Atmospheric Administration (NOAA),\n",
    "has compiled a database of weather measurements from over 7,000 weather \n",
    "stations worldwide. Records date back to the mid-1900s. Daily measurements\n",
    "include a variety of features (temperature, pressure, wind speed, etc.) as\n",
    "well as a series of indicators for precipitation and other weather-related\n",
    "events. The `NEweather` dataset contains data from this database, specifically\n",
    "from the Offutt Air Force Base in Bellevue, Nebraska ranging for over 50 years\n",
    "(1949-1999).\n",
    "\n",
    "**Features:** 8 Daily weather measurements\n",
    " \n",
    "|       Attribute      | Description |\n",
    "|:--------------------:|:-----------------------------|\n",
    "| `temp`                   | Temperature\n",
    "| `dew_pnt`                | Dew Point\n",
    "| `sea_lvl_press`          | Sea Level Pressure\n",
    "| `visibility`             | Visibility\n",
    "| `avg_wind_spd`           | Average Wind Speed\n",
    "| `max_sustained_wind_spd` | Maximum Sustained Wind Speed\n",
    "| `max_temp`               | Maximum Temperature\n",
    "| `min_temp`               | Minimum Temperature\n",
    "\n",
    "\n",
    "**Class:** `rain` | 0: no rain, 1: rain\n",
    " \n",
    "**Samples:** 18,159\n"
   ]
  },
  {
   "cell_type": "code",
   "execution_count": 3,
   "metadata": {},
   "outputs": [],
   "source": [
    "import pandas as pd\n",
    "from river.stream import iter_pandas\n",
    "from river.metrics import Accuracy,BalancedAccuracy,CohenKappa,GeometricMean\n",
    "from river.metrics.base import Metrics\n",
    "from river.utils import Rolling\n",
    "from river.evaluate import progressive_val_score"
   ]
  },
  {
   "cell_type": "code",
   "execution_count": 18,
   "metadata": {},
   "outputs": [],
   "source": [
    "data = pd.read_csv(\"../datasets/NEweather.csv\")\n",
    "features = data.columns[:-1]"
   ]
  },
  {
   "cell_type": "code",
   "execution_count": 19,
   "metadata": {},
   "outputs": [
    {
     "data": {
      "text/plain": [
       "'rain'"
      ]
     },
     "execution_count": 19,
     "metadata": {},
     "output_type": "execute_result"
    }
   ],
   "source": [
    "data.columns[-1]"
   ]
  },
  {
   "cell_type": "markdown",
   "metadata": {},
   "source": [
    "In this example, we load the data from a csv file with `pandas.read_csv`, and we use the [iter_pandas](https://riverml.xyz/latest/api/stream/iter-pandas/) utility method to iterate over the `DataFrame`."
   ]
  },
  {
   "cell_type": "code",
   "execution_count": 20,
   "metadata": {},
   "outputs": [],
   "source": [
    "stream = iter_pandas(X=data[features], y=data['rain'])"
   ]
  },
  {
   "cell_type": "markdown",
   "metadata": {},
   "source": [
    "## Naïve Bayes\n",
    "---\n",
    "[GaussianNB](https://riverml.xyz/0.18.0/api/naive-bayes/GaussianNB/) maintains a Gaussian distribution $G_{cf}$ is maintained for each class $c$ and each feature $f$. Each Gaussian is updated using the amount associated with each feature; the details can be be found in proba.Gaussian. The joint log-likelihood is then obtained by summing the log probabilities of each feature associated with each class."
   ]
  },
  {
   "cell_type": "code",
   "execution_count": 7,
   "metadata": {},
   "outputs": [
    {
     "name": "stdout",
     "output_type": "stream",
     "text": [
      "[1,000] Accuracy: 71.27%, BalancedAccuracy: 71.96%, GeometricMean: 71.93%, CohenKappa: 40.19%\n",
      "[2,000] Accuracy: 69.88%, BalancedAccuracy: 70.38%, GeometricMean: 70.37%, CohenKappa: 36.23%\n",
      "[3,000] Accuracy: 68.99%, BalancedAccuracy: 69.64%, GeometricMean: 69.62%, CohenKappa: 34.23%\n",
      "[4,000] Accuracy: 68.82%, BalancedAccuracy: 68.87%, GeometricMean: 68.87%, CohenKappa: 33.48%\n",
      "[5,000] Accuracy: 69.09%, BalancedAccuracy: 67.97%, GeometricMean: 67.92%, CohenKappa: 32.70%\n",
      "[6,000] Accuracy: 69.13%, BalancedAccuracy: 67.87%, GeometricMean: 67.80%, CohenKappa: 32.65%\n",
      "[7,000] Accuracy: 69.15%, BalancedAccuracy: 67.89%, GeometricMean: 67.82%, CohenKappa: 32.62%\n",
      "[8,000] Accuracy: 68.50%, BalancedAccuracy: 67.31%, GeometricMean: 67.25%, CohenKappa: 31.56%\n",
      "[9,000] Accuracy: 68.65%, BalancedAccuracy: 66.69%, GeometricMean: 66.50%, CohenKappa: 30.97%\n",
      "[10,000] Accuracy: 69.04%, BalancedAccuracy: 66.36%, GeometricMean: 66.01%, CohenKappa: 30.75%\n",
      "[11,000] Accuracy: 69.52%, BalancedAccuracy: 66.52%, GeometricMean: 66.11%, CohenKappa: 31.17%\n",
      "[12,000] Accuracy: 69.74%, BalancedAccuracy: 66.57%, GeometricMean: 66.13%, CohenKappa: 31.25%\n",
      "[13,000] Accuracy: 69.79%, BalancedAccuracy: 66.23%, GeometricMean: 65.65%, CohenKappa: 30.97%\n",
      "[14,000] Accuracy: 69.88%, BalancedAccuracy: 66.23%, GeometricMean: 65.57%, CohenKappa: 31.31%\n",
      "[15,000] Accuracy: 70.14%, BalancedAccuracy: 66.38%, GeometricMean: 65.68%, CohenKappa: 31.72%\n",
      "[16,000] Accuracy: 70.05%, BalancedAccuracy: 66.31%, GeometricMean: 65.58%, CohenKappa: 31.79%\n",
      "[17,000] Accuracy: 69.70%, BalancedAccuracy: 66.25%, GeometricMean: 65.61%, CohenKappa: 31.50%\n",
      "[18,000] Accuracy: 69.36%, BalancedAccuracy: 66.36%, GeometricMean: 65.86%, CohenKappa: 31.54%\n",
      "[18,159] Accuracy: 69.21%, BalancedAccuracy: 66.27%, GeometricMean: 65.80%, CohenKappa: 31.28%\n"
     ]
    },
    {
     "data": {
      "text/plain": [
       "Accuracy: 69.21%, BalancedAccuracy: 66.27%, GeometricMean: 65.80%, CohenKappa: 31.28%"
      ]
     },
     "execution_count": 7,
     "metadata": {},
     "output_type": "execute_result"
    }
   ],
   "source": [
    "from river.naive_bayes import GaussianNB\n",
    "\n",
    "model = GaussianNB()\n",
    "metrics = Metrics(metrics=[Accuracy(),BalancedAccuracy(),GeometricMean(),CohenKappa()])\n",
    "\n",
    "progressive_val_score(dataset=stream,\n",
    "                      model=model,\n",
    "                      metric=metrics,\n",
    "                      print_every=1000)"
   ]
  },
  {
   "cell_type": "markdown",
   "metadata": {},
   "source": [
    "## K-Nearest Neighbors\n",
    "---\n",
    "[KNN](https://riverml.xyz/0.18.0/api/neighbors/KNNClassifier/) is a non-parametric classification method that keeps track of the last window_size training samples. The predicted class-label for a given query sample is obtained in two steps:\n",
    "\n",
    "- Find the closest n_neighbors to the query sample in the data window. \n",
    "- Aggregate the class-labels of the n_neighbors to define the predicted class for the query sample."
   ]
  },
  {
   "cell_type": "code",
   "execution_count": 9,
   "metadata": {},
   "outputs": [
    {
     "name": "stdout",
     "output_type": "stream",
     "text": [
      "[1,000] Accuracy: 77.18%, BalancedAccuracy: 71.52%, GeometricMean: 69.63%, CohenKappa: 45.32%\n",
      "[2,000] Accuracy: 78.34%, BalancedAccuracy: 71.07%, GeometricMean: 68.71%, CohenKappa: 44.95%\n",
      "[3,000] Accuracy: 78.86%, BalancedAccuracy: 70.49%, GeometricMean: 67.63%, CohenKappa: 44.34%\n",
      "[4,000] Accuracy: 78.27%, BalancedAccuracy: 70.40%, GeometricMean: 67.72%, CohenKappa: 43.85%\n",
      "[5,000] Accuracy: 78.04%, BalancedAccuracy: 70.34%, GeometricMean: 67.72%, CohenKappa: 43.62%\n",
      "[6,000] Accuracy: 77.90%, BalancedAccuracy: 70.46%, GeometricMean: 68.00%, CohenKappa: 43.66%\n",
      "[7,000] Accuracy: 78.20%, BalancedAccuracy: 70.89%, GeometricMean: 68.58%, CohenKappa: 44.44%\n",
      "[8,000] Accuracy: 77.92%, BalancedAccuracy: 70.80%, GeometricMean: 68.54%, CohenKappa: 44.16%\n",
      "[9,000] Accuracy: 78.10%, BalancedAccuracy: 71.04%, GeometricMean: 68.78%, CohenKappa: 44.74%\n",
      "[10,000] Accuracy: 78.14%, BalancedAccuracy: 71.09%, GeometricMean: 68.87%, CohenKappa: 44.78%\n",
      "[11,000] Accuracy: 78.33%, BalancedAccuracy: 71.29%, GeometricMean: 69.14%, CohenKappa: 45.08%\n",
      "[12,000] Accuracy: 78.46%, BalancedAccuracy: 71.18%, GeometricMean: 68.96%, CohenKappa: 44.93%\n",
      "[13,000] Accuracy: 78.34%, BalancedAccuracy: 71.14%, GeometricMean: 68.90%, CohenKappa: 44.90%\n",
      "[14,000] Accuracy: 78.23%, BalancedAccuracy: 71.57%, GeometricMean: 69.53%, CohenKappa: 45.61%\n",
      "[15,000] Accuracy: 78.33%, BalancedAccuracy: 71.78%, GeometricMean: 69.79%, CohenKappa: 45.97%\n",
      "[16,000] Accuracy: 78.20%, BalancedAccuracy: 72.07%, GeometricMean: 70.24%, CohenKappa: 46.42%\n",
      "[17,000] Accuracy: 78.07%, BalancedAccuracy: 72.01%, GeometricMean: 70.21%, CohenKappa: 46.26%\n",
      "[18,000] Accuracy: 77.87%, BalancedAccuracy: 72.02%, GeometricMean: 70.27%, CohenKappa: 46.19%\n",
      "[18,159] Accuracy: 77.88%, BalancedAccuracy: 72.01%, GeometricMean: 70.26%, CohenKappa: 46.15%\n"
     ]
    },
    {
     "data": {
      "text/plain": [
       "Accuracy: 77.88%, BalancedAccuracy: 72.01%, GeometricMean: 70.26%, CohenKappa: 46.15%"
      ]
     },
     "execution_count": 9,
     "metadata": {},
     "output_type": "execute_result"
    }
   ],
   "source": [
    "from river.neighbors import KNNClassifier\n",
    "\n",
    "model = KNNClassifier(n_neighbors=5)\n",
    "metrics = Metrics(metrics=[Accuracy(),BalancedAccuracy(),GeometricMean(),CohenKappa()])\n",
    "stream = iter_pandas(X=data[features], y=data['rain'])\n",
    "\n",
    "progressive_val_score(dataset=stream,\n",
    "                      model=model,\n",
    "                      metric=metrics,\n",
    "                      print_every=1000)"
   ]
  },
  {
   "cell_type": "markdown",
   "metadata": {},
   "source": [
    "## Hoeffding Tree\n",
    "---"
   ]
  },
  {
   "cell_type": "markdown",
   "metadata": {},
   "source": [
    "Tree-based models are popular due to their interpretability. [Hoeffding Tree](https://riverml.xyz/0.18.0/api/tree/HoeffdingTreeClassifier/)  uses a tree data structure to model the data. When a sample arrives, it traverses the tree until it reaches a leaf node. Internal nodes define the path for a data sample based on the values of its features. Leaf nodes are models that provide predictions for unlabeled-samples and can update their internal state using the labels from labeled samples."
   ]
  },
  {
   "cell_type": "code",
   "execution_count": 10,
   "metadata": {},
   "outputs": [
    {
     "name": "stdout",
     "output_type": "stream",
     "text": [
      "[1,000] Accuracy: 70.87%, BalancedAccuracy: 71.11%, GeometricMean: 71.10%, CohenKappa: 38.92%\n",
      "[2,000] Accuracy: 69.73%, BalancedAccuracy: 68.12%, GeometricMean: 68.01%, CohenKappa: 33.45%\n",
      "[3,000] Accuracy: 70.89%, BalancedAccuracy: 63.00%, GeometricMean: 60.16%, CohenKappa: 26.85%\n",
      "[4,000] Accuracy: 71.29%, BalancedAccuracy: 61.85%, GeometricMean: 57.40%, CohenKappa: 25.57%\n",
      "[5,000] Accuracy: 71.79%, BalancedAccuracy: 62.23%, GeometricMean: 57.58%, CohenKappa: 26.59%\n",
      "[6,000] Accuracy: 72.13%, BalancedAccuracy: 62.56%, GeometricMean: 57.88%, CohenKappa: 27.40%\n",
      "[7,000] Accuracy: 72.82%, BalancedAccuracy: 64.11%, GeometricMean: 60.42%, CohenKappa: 30.23%\n",
      "[8,000] Accuracy: 72.58%, BalancedAccuracy: 64.31%, GeometricMean: 60.90%, CohenKappa: 30.45%\n",
      "[9,000] Accuracy: 72.80%, BalancedAccuracy: 63.98%, GeometricMean: 59.98%, CohenKappa: 30.21%\n",
      "[10,000] Accuracy: 72.85%, BalancedAccuracy: 63.64%, GeometricMean: 59.32%, CohenKappa: 29.69%\n",
      "[11,000] Accuracy: 73.30%, BalancedAccuracy: 63.81%, GeometricMean: 59.37%, CohenKappa: 30.17%\n",
      "[12,000] Accuracy: 73.55%, BalancedAccuracy: 63.96%, GeometricMean: 59.58%, CohenKappa: 30.46%\n",
      "[13,000] Accuracy: 73.80%, BalancedAccuracy: 64.28%, GeometricMean: 59.85%, CohenKappa: 31.27%\n",
      "[14,000] Accuracy: 73.73%, BalancedAccuracy: 64.51%, GeometricMean: 60.07%, CohenKappa: 31.84%\n",
      "[15,000] Accuracy: 73.99%, BalancedAccuracy: 64.80%, GeometricMean: 60.39%, CohenKappa: 32.51%\n",
      "[16,000] Accuracy: 74.03%, BalancedAccuracy: 65.36%, GeometricMean: 61.24%, CohenKappa: 33.60%\n",
      "[17,000] Accuracy: 73.93%, BalancedAccuracy: 65.82%, GeometricMean: 62.22%, CohenKappa: 34.24%\n",
      "[18,000] Accuracy: 73.58%, BalancedAccuracy: 65.92%, GeometricMean: 62.60%, CohenKappa: 34.20%\n",
      "[18,159] Accuracy: 73.55%, BalancedAccuracy: 65.87%, GeometricMean: 62.56%, CohenKappa: 34.07%\n"
     ]
    },
    {
     "data": {
      "text/plain": [
       "Accuracy: 73.55%, BalancedAccuracy: 65.87%, GeometricMean: 62.56%, CohenKappa: 34.07%"
      ]
     },
     "execution_count": 10,
     "metadata": {},
     "output_type": "execute_result"
    }
   ],
   "source": [
    "from river.tree import HoeffdingTreeClassifier\n",
    "\n",
    "model = HoeffdingTreeClassifier()\n",
    "metrics = Metrics(metrics=[Accuracy(),BalancedAccuracy(),GeometricMean(),CohenKappa()])\n",
    "stream = iter_pandas(X=data[features], y=data['rain'])\n",
    "\n",
    "progressive_val_score(dataset=stream,\n",
    "                      model=model,\n",
    "                      metric=metrics,\n",
    "                      print_every=1000)"
   ]
  },
  {
   "cell_type": "markdown",
   "metadata": {},
   "source": [
    "## Hoeffding Adaptive Tree\n",
    "---\n",
    "The [HAT](https://riverml.xyz/0.18.0/api/tree/HoeffdingAdaptiveTreeClassifier/) model uses [ADWIN](https://riverml.xyz/0.18.0/api/drift/ADWIN/) to detect changes. If change is detected in a given branch, an alternate branch is created and eventually replaces the original branch if it shows better performance on new data."
   ]
  },
  {
   "cell_type": "code",
   "execution_count": 11,
   "metadata": {},
   "outputs": [
    {
     "name": "stdout",
     "output_type": "stream",
     "text": [
      "[1,000] Accuracy: 70.67%, BalancedAccuracy: 70.72%, GeometricMean: 70.72%, CohenKappa: 38.32%\n",
      "[2,000] Accuracy: 69.88%, BalancedAccuracy: 70.05%, GeometricMean: 70.05%, CohenKappa: 35.85%\n",
      "[3,000] Accuracy: 69.72%, BalancedAccuracy: 67.38%, GeometricMean: 67.15%, CohenKappa: 32.06%\n",
      "[4,000] Accuracy: 71.39%, BalancedAccuracy: 67.12%, GeometricMean: 66.31%, CohenKappa: 33.24%\n",
      "[5,000] Accuracy: 71.97%, BalancedAccuracy: 66.39%, GeometricMean: 64.95%, CohenKappa: 32.83%\n",
      "[6,000] Accuracy: 72.50%, BalancedAccuracy: 66.95%, GeometricMean: 65.52%, CohenKappa: 34.03%\n",
      "[7,000] Accuracy: 73.17%, BalancedAccuracy: 67.60%, GeometricMean: 66.19%, CohenKappa: 35.37%\n",
      "[8,000] Accuracy: 72.88%, BalancedAccuracy: 67.33%, GeometricMean: 65.88%, CohenKappa: 34.91%\n",
      "[9,000] Accuracy: 72.94%, BalancedAccuracy: 66.52%, GeometricMean: 64.51%, CohenKappa: 33.97%\n",
      "[10,000] Accuracy: 73.05%, BalancedAccuracy: 66.36%, GeometricMean: 64.21%, CohenKappa: 33.78%\n",
      "[11,000] Accuracy: 73.63%, BalancedAccuracy: 66.66%, GeometricMean: 64.41%, CohenKappa: 34.55%\n",
      "[12,000] Accuracy: 73.83%, BalancedAccuracy: 66.60%, GeometricMean: 64.26%, CohenKappa: 34.49%\n",
      "[13,000] Accuracy: 73.92%, BalancedAccuracy: 66.66%, GeometricMean: 64.22%, CohenKappa: 34.79%\n",
      "[14,000] Accuracy: 73.79%, BalancedAccuracy: 66.76%, GeometricMean: 64.31%, CohenKappa: 35.11%\n",
      "[15,000] Accuracy: 73.90%, BalancedAccuracy: 66.94%, GeometricMean: 64.54%, CohenKappa: 35.47%\n",
      "[16,000] Accuracy: 73.97%, BalancedAccuracy: 67.37%, GeometricMean: 65.09%, CohenKappa: 36.34%\n",
      "[17,000] Accuracy: 73.77%, BalancedAccuracy: 67.75%, GeometricMean: 65.85%, CohenKappa: 36.73%\n",
      "[18,000] Accuracy: 73.44%, BalancedAccuracy: 67.91%, GeometricMean: 66.25%, CohenKappa: 36.78%\n",
      "[18,159] Accuracy: 73.43%, BalancedAccuracy: 67.90%, GeometricMean: 66.25%, CohenKappa: 36.72%\n"
     ]
    },
    {
     "data": {
      "text/plain": [
       "Accuracy: 73.43%, BalancedAccuracy: 67.90%, GeometricMean: 66.25%, CohenKappa: 36.72%"
      ]
     },
     "execution_count": 11,
     "metadata": {},
     "output_type": "execute_result"
    }
   ],
   "source": [
    "from river.tree import HoeffdingAdaptiveTreeClassifier\n",
    "\n",
    "model = HoeffdingAdaptiveTreeClassifier(seed=42)\n",
    "metrics = Metrics(metrics=[Accuracy(),BalancedAccuracy(),GeometricMean(),CohenKappa()])\n",
    "stream = iter_pandas(X=data[features], y=data['rain'])\n",
    "\n",
    "progressive_val_score(dataset=stream, \n",
    "                      model=model, \n",
    "                      metric=metrics, \n",
    "                      print_every=1000)"
   ]
  },
  {
   "cell_type": "markdown",
   "metadata": {},
   "source": [
    "## AdaptiveRandomForest\n",
    "---\n",
    "\n",
    "\n",
    "\n",
    "The 3 most important aspects of [ARF](https://riverml.xyz/0.18.0/api/forest/ARFClassifier/) are:\n",
    "- inducing diversity through re-sampling\n",
    "- inducing diversity through randomly selecting subsets of features for node splits\n",
    "- drift detectors per base tree, which cause selective resets in response to drifts\n",
    "\n",
    "It also allows training background trees, which start training if a warning is detected and replace the active tree if the warning escalates to a drift."
   ]
  },
  {
   "cell_type": "code",
   "execution_count": 21,
   "metadata": {},
   "outputs": [
    {
     "name": "stdout",
     "output_type": "stream",
     "text": [
      "[1,000] Accuracy: 72.67%, BalancedAccuracy: 63.82%, GeometricMean: 58.52%, CohenKappa: 30.79%\n",
      "[2,000] Accuracy: 75.19%, BalancedAccuracy: 64.95%, GeometricMean: 59.71%, CohenKappa: 33.59%\n",
      "[3,000] Accuracy: 76.43%, BalancedAccuracy: 65.25%, GeometricMean: 59.63%, CohenKappa: 34.72%\n",
      "[4,000] Accuracy: 76.67%, BalancedAccuracy: 65.59%, GeometricMean: 59.76%, CohenKappa: 35.73%\n",
      "[5,000] Accuracy: 76.72%, BalancedAccuracy: 66.08%, GeometricMean: 60.64%, CohenKappa: 36.58%\n",
      "[6,000] Accuracy: 76.95%, BalancedAccuracy: 67.16%, GeometricMean: 62.63%, CohenKappa: 38.40%\n",
      "[7,000] Accuracy: 77.48%, BalancedAccuracy: 68.00%, GeometricMean: 63.89%, CohenKappa: 40.02%\n",
      "[8,000] Accuracy: 77.26%, BalancedAccuracy: 68.22%, GeometricMean: 64.38%, CohenKappa: 40.20%\n",
      "[9,000] Accuracy: 77.21%, BalancedAccuracy: 67.94%, GeometricMean: 63.79%, CohenKappa: 39.88%\n",
      "[10,000] Accuracy: 77.46%, BalancedAccuracy: 68.16%, GeometricMean: 64.07%, CohenKappa: 40.38%\n",
      "[11,000] Accuracy: 77.79%, BalancedAccuracy: 68.47%, GeometricMean: 64.50%, CohenKappa: 40.99%\n",
      "[12,000] Accuracy: 77.99%, BalancedAccuracy: 68.58%, GeometricMean: 64.67%, CohenKappa: 41.19%\n",
      "[13,000] Accuracy: 78.10%, BalancedAccuracy: 68.95%, GeometricMean: 65.17%, CohenKappa: 41.94%\n",
      "[14,000] Accuracy: 77.98%, BalancedAccuracy: 69.24%, GeometricMean: 65.56%, CohenKappa: 42.51%\n",
      "[15,000] Accuracy: 78.09%, BalancedAccuracy: 69.38%, GeometricMean: 65.72%, CohenKappa: 42.83%\n",
      "[16,000] Accuracy: 78.17%, BalancedAccuracy: 69.92%, GeometricMean: 66.46%, CohenKappa: 43.84%\n",
      "[17,000] Accuracy: 78.10%, BalancedAccuracy: 70.16%, GeometricMean: 66.92%, CohenKappa: 44.12%\n",
      "[18,000] Accuracy: 77.91%, BalancedAccuracy: 70.54%, GeometricMean: 67.69%, CohenKappa: 44.51%\n",
      "[18,159] Accuracy: 77.93%, BalancedAccuracy: 70.56%, GeometricMean: 67.72%, CohenKappa: 44.52%\n"
     ]
    },
    {
     "data": {
      "text/plain": [
       "Accuracy: 77.93%, BalancedAccuracy: 70.56%, GeometricMean: 67.72%, CohenKappa: 44.52%"
      ]
     },
     "execution_count": 21,
     "metadata": {},
     "output_type": "execute_result"
    }
   ],
   "source": [
    "from river.forest import ARFClassifier\n",
    "\n",
    "model = ARFClassifier(n_models=10)\n",
    "metrics = Metrics(metrics=[Accuracy(),BalancedAccuracy(),GeometricMean(),CohenKappa()])\n",
    "stream = iter_pandas(X=data[features], y=data['rain'])\n",
    "\n",
    "progressive_val_score(dataset=stream,\n",
    "                      model=model,\n",
    "                      metric=metrics,\n",
    "                      print_every=1000)"
   ]
  },
  {
   "cell_type": "markdown",
   "metadata": {},
   "source": [
    "## StreamingRandomPatches\n",
    "---\n",
    "[SRP](https://riverml.xyz/0.18.0/api/ensemble/SRPClassifier/) is an ensemble method that simulates bagging or random subspaces. The default algorithm uses both bagging and random subspaces, namely Random Patches. The default base estimator is a Hoeffding Tree, but other base estimators can be used (differently from random forest variations)."
   ]
  },
  {
   "cell_type": "code",
   "execution_count": 22,
   "metadata": {},
   "outputs": [
    {
     "name": "stdout",
     "output_type": "stream",
     "text": [
      "[1,000] Accuracy: 72.97%, BalancedAccuracy: 65.15%, GeometricMean: 61.14%, CohenKappa: 33.02%\n",
      "[2,000] Accuracy: 75.09%, BalancedAccuracy: 65.36%, GeometricMean: 60.68%, CohenKappa: 34.10%\n",
      "[3,000] Accuracy: 76.53%, BalancedAccuracy: 65.39%, GeometricMean: 59.82%, CohenKappa: 35.02%\n",
      "[4,000] Accuracy: 76.84%, BalancedAccuracy: 66.08%, GeometricMean: 60.65%, CohenKappa: 36.63%\n",
      "[5,000] Accuracy: 76.92%, BalancedAccuracy: 66.32%, GeometricMean: 60.95%, CohenKappa: 37.13%\n",
      "[6,000] Accuracy: 77.28%, BalancedAccuracy: 67.00%, GeometricMean: 61.96%, CohenKappa: 38.52%\n",
      "[7,000] Accuracy: 77.81%, BalancedAccuracy: 67.72%, GeometricMean: 63.02%, CohenKappa: 40.00%\n",
      "[8,000] Accuracy: 77.60%, BalancedAccuracy: 67.90%, GeometricMean: 63.44%, CohenKappa: 40.13%\n",
      "[9,000] Accuracy: 77.72%, BalancedAccuracy: 68.02%, GeometricMean: 63.48%, CohenKappa: 40.54%\n",
      "[10,000] Accuracy: 77.85%, BalancedAccuracy: 68.17%, GeometricMean: 63.71%, CohenKappa: 40.80%\n",
      "[11,000] Accuracy: 78.16%, BalancedAccuracy: 68.37%, GeometricMean: 63.97%, CohenKappa: 41.27%\n",
      "[12,000] Accuracy: 78.23%, BalancedAccuracy: 68.24%, GeometricMean: 63.79%, CohenKappa: 41.01%\n",
      "[13,000] Accuracy: 78.24%, BalancedAccuracy: 68.48%, GeometricMean: 64.13%, CohenKappa: 41.49%\n",
      "[14,000] Accuracy: 78.03%, BalancedAccuracy: 68.65%, GeometricMean: 64.35%, CohenKappa: 41.79%\n",
      "[15,000] Accuracy: 78.15%, BalancedAccuracy: 68.79%, GeometricMean: 64.50%, CohenKappa: 42.12%\n",
      "[16,000] Accuracy: 78.14%, BalancedAccuracy: 69.25%, GeometricMean: 65.17%, CohenKappa: 42.98%\n",
      "[17,000] Accuracy: 78.24%, BalancedAccuracy: 69.59%, GeometricMean: 65.71%, CohenKappa: 43.57%\n",
      "[18,000] Accuracy: 78.13%, BalancedAccuracy: 70.01%, GeometricMean: 66.51%, CohenKappa: 44.11%\n",
      "[18,159] Accuracy: 78.16%, BalancedAccuracy: 70.02%, GeometricMean: 66.51%, CohenKappa: 44.12%\n"
     ]
    },
    {
     "data": {
      "text/plain": [
       "Accuracy: 78.16%, BalancedAccuracy: 70.02%, GeometricMean: 66.51%, CohenKappa: 44.12%"
      ]
     },
     "execution_count": 22,
     "metadata": {},
     "output_type": "execute_result"
    }
   ],
   "source": [
    "from river.ensemble import SRPClassifier\n",
    "from river.tree import HoeffdingTreeClassifier\n",
    "\n",
    "model = SRPClassifier(model=HoeffdingTreeClassifier(),\n",
    "                      n_models=10,\n",
    "                      seed=42)\n",
    "metrics = Metrics(metrics=[Accuracy(),BalancedAccuracy(),GeometricMean(),CohenKappa()])\n",
    "stream = iter_pandas(X=data[features], y=data['rain'])\n",
    "\n",
    "progressive_val_score(dataset=stream, \n",
    "                      model=model, \n",
    "                      metric=metrics, \n",
    "                      print_every=1000)"
   ]
  },
  {
   "cell_type": "markdown",
   "metadata": {},
   "source": [
    "## Concept Drift Impact\n",
    "\n",
    "Concept drift can negatively impact learning methods if not properly handled. Multiple real-world applications suffer **model degradation** as the models can not adapt to changes in the data.\n",
    "\n",
    "---\n",
    "## `AGRAWAL` dataset\n",
    "\n",
    "We will load the data from a csv file. The data was generated using the `AGRAWAL` data generator with 3 **gradual drifts** at the 5k, 10k, and 15k marks. It contains 9 features, 6 numeric and 3 categorical.\n",
    "\n",
    "There are 10 functions for generating binary class labels from the features. These functions determine whether a **loan** should be approved.\n",
    "\n",
    "| Feature    | Description            | Values                                                                |\n",
    "|------------|------------------------|-----------------------------------------------------------------------|\n",
    "| `salary`     | salary                 | uniformly distributed from 20k to 150k                                |\n",
    "| `commission` | commission             | if (salary <   75k) then 0 else uniformly distributed from 10k to 75k |\n",
    "| `age`        | age                    | uniformly distributed from 20 to 80                                   |\n",
    "| `elevel`     | education level        | uniformly chosen from 0 to 4                                          |\n",
    "| `car`        | car maker              | uniformly chosen from 1 to 20                                         |\n",
    "| `zipcode`    | zip code of the town   | uniformly chosen from 0 to 8                                          |\n",
    "| `hvalue`     | value of the house     | uniformly distributed from 50k x zipcode to 100k x zipcode            |\n",
    "| `hyears`     | years house owned      | uniformly distributed from 1 to 30                                    |\n",
    "| `loan`       | total loan amount      | uniformly distributed from 0 to 500k                                  |\n",
    "\n",
    "**Class:** `y` | 0: no loan, 1: loan\n",
    " \n",
    "**Samples:** 20,000\n",
    "\n",
    "`elevel`, `car`, and `zipcode` are categorical features."
   ]
  },
  {
   "cell_type": "code",
   "execution_count": 23,
   "metadata": {},
   "outputs": [],
   "source": [
    "data = pd.read_csv(\"../datasets/agr_a_20k.csv\")\n",
    "features = data.columns[:-1]"
   ]
  },
  {
   "cell_type": "markdown",
   "metadata": {},
   "source": [
    "## Naïve Bayes"
   ]
  },
  {
   "cell_type": "code",
   "execution_count": 13,
   "metadata": {
    "scrolled": true
   },
   "outputs": [
    {
     "name": "stdout",
     "output_type": "stream",
     "text": [
      "[500] Accuracy: 81.76%, BalancedAccuracy: 74.69%, GeometricMean: 71.56%, CohenKappa: 54.66%\n",
      "[1,000] Accuracy: 86.20%, BalancedAccuracy: 79.37%, GeometricMean: 76.72%, CohenKappa: 65.37%\n",
      "[1,500] Accuracy: 87.80%, BalancedAccuracy: 82.87%, GeometricMean: 81.07%, CohenKappa: 71.19%\n",
      "[2,000] Accuracy: 89.40%, BalancedAccuracy: 84.41%, GeometricMean: 82.96%, CohenKappa: 74.45%\n",
      "[2,500] Accuracy: 89.80%, BalancedAccuracy: 84.49%, GeometricMean: 83.16%, CohenKappa: 74.70%\n",
      "[3,000] Accuracy: 87.00%, BalancedAccuracy: 80.54%, GeometricMean: 78.15%, CohenKappa: 67.64%\n",
      "[3,500] Accuracy: 87.60%, BalancedAccuracy: 79.87%, GeometricMean: 77.29%, CohenKappa: 67.25%\n",
      "[4,000] Accuracy: 90.80%, BalancedAccuracy: 85.44%, GeometricMean: 84.19%, CohenKappa: 76.91%\n",
      "[4,500] Accuracy: 87.00%, BalancedAccuracy: 80.91%, GeometricMean: 78.70%, CohenKappa: 68.03%\n",
      "[5,000] Accuracy: 86.80%, BalancedAccuracy: 80.98%, GeometricMean: 78.86%, CohenKappa: 67.87%\n",
      "[5,500] Accuracy: 47.60%, BalancedAccuracy: 52.32%, GeometricMean: 44.93%, CohenKappa: 4.11%\n",
      "[6,000] Accuracy: 44.20%, BalancedAccuracy: 49.70%, GeometricMean: 42.39%, CohenKappa: -0.52%\n",
      "[6,500] Accuracy: 39.00%, BalancedAccuracy: 45.61%, GeometricMean: 38.12%, CohenKappa: -7.17%\n",
      "[7,000] Accuracy: 41.00%, BalancedAccuracy: 46.13%, GeometricMean: 39.54%, CohenKappa: -6.66%\n",
      "[7,500] Accuracy: 46.00%, BalancedAccuracy: 50.58%, GeometricMean: 44.03%, CohenKappa: 1.03%\n",
      "[8,000] Accuracy: 42.00%, BalancedAccuracy: 47.00%, GeometricMean: 42.61%, CohenKappa: -5.09%\n",
      "[8,500] Accuracy: 42.20%, BalancedAccuracy: 47.63%, GeometricMean: 42.65%, CohenKappa: -3.99%\n",
      "[9,000] Accuracy: 48.00%, BalancedAccuracy: 52.65%, GeometricMean: 49.31%, CohenKappa: 4.56%\n",
      "[9,500] Accuracy: 51.00%, BalancedAccuracy: 54.13%, GeometricMean: 52.00%, CohenKappa: 7.47%\n",
      "[10,000] Accuracy: 49.80%, BalancedAccuracy: 52.19%, GeometricMean: 51.05%, CohenKappa: 3.99%\n",
      "[10,500] Accuracy: 70.40%, BalancedAccuracy: 67.78%, GeometricMean: 67.32%, CohenKappa: 34.83%\n",
      "[11,000] Accuracy: 73.20%, BalancedAccuracy: 70.09%, GeometricMean: 69.48%, CohenKappa: 39.94%\n",
      "[11,500] Accuracy: 71.00%, BalancedAccuracy: 68.64%, GeometricMean: 68.14%, CohenKappa: 37.14%\n",
      "[12,000] Accuracy: 75.60%, BalancedAccuracy: 73.03%, GeometricMean: 72.59%, CohenKappa: 45.79%\n",
      "[12,500] Accuracy: 76.00%, BalancedAccuracy: 71.74%, GeometricMean: 70.69%, CohenKappa: 44.33%\n",
      "[13,000] Accuracy: 75.80%, BalancedAccuracy: 72.56%, GeometricMean: 71.93%, CohenKappa: 45.19%\n",
      "[13,500] Accuracy: 79.60%, BalancedAccuracy: 73.97%, GeometricMean: 72.54%, CohenKappa: 49.96%\n",
      "[14,000] Accuracy: 78.20%, BalancedAccuracy: 73.32%, GeometricMean: 72.03%, CohenKappa: 48.30%\n",
      "[14,500] Accuracy: 75.20%, BalancedAccuracy: 70.04%, GeometricMean: 68.29%, CohenKappa: 41.82%\n",
      "[15,000] Accuracy: 78.80%, BalancedAccuracy: 75.52%, GeometricMean: 74.72%, CohenKappa: 52.27%\n",
      "[15,500] Accuracy: 55.60%, BalancedAccuracy: 59.99%, GeometricMean: 54.29%, CohenKappa: 17.92%\n",
      "[16,000] Accuracy: 52.20%, BalancedAccuracy: 56.71%, GeometricMean: 51.62%, CohenKappa: 11.91%\n",
      "[16,500] Accuracy: 53.20%, BalancedAccuracy: 58.80%, GeometricMean: 55.58%, CohenKappa: 14.67%\n",
      "[17,000] Accuracy: 53.60%, BalancedAccuracy: 57.93%, GeometricMean: 55.15%, CohenKappa: 13.84%\n",
      "[17,500] Accuracy: 57.00%, BalancedAccuracy: 60.58%, GeometricMean: 57.64%, CohenKappa: 19.15%\n",
      "[18,000] Accuracy: 58.00%, BalancedAccuracy: 61.30%, GeometricMean: 59.93%, CohenKappa: 20.09%\n",
      "[18,500] Accuracy: 53.60%, BalancedAccuracy: 58.13%, GeometricMean: 56.24%, CohenKappa: 13.69%\n",
      "[19,000] Accuracy: 58.20%, BalancedAccuracy: 60.94%, GeometricMean: 59.70%, CohenKappa: 19.92%\n",
      "[19,500] Accuracy: 59.60%, BalancedAccuracy: 63.01%, GeometricMean: 61.59%, CohenKappa: 23.14%\n",
      "[20,000] Accuracy: 57.80%, BalancedAccuracy: 60.46%, GeometricMean: 59.40%, CohenKappa: 18.97%\n"
     ]
    },
    {
     "data": {
      "text/plain": [
       "Accuracy: 57.80%, BalancedAccuracy: 60.46%, GeometricMean: 59.40%, CohenKappa: 18.97%"
      ]
     },
     "execution_count": 13,
     "metadata": {},
     "output_type": "execute_result"
    }
   ],
   "source": [
    "from river.naive_bayes import GaussianNB\n",
    "\n",
    "model = GaussianNB()\n",
    "metrics = Rolling(Metrics(metrics=[Accuracy(),BalancedAccuracy(),GeometricMean(),CohenKappa()]),window_size=500)\n",
    "stream = iter_pandas(X=data[features], y=data['class'])\n",
    "\n",
    "progressive_val_score(dataset=stream,\n",
    "                      model=model,\n",
    "                      metric=metrics,\n",
    "                      print_every=500)\n"
   ]
  },
  {
   "cell_type": "markdown",
   "metadata": {},
   "source": [
    "## Hoeffding Tree"
   ]
  },
  {
   "cell_type": "code",
   "execution_count": 15,
   "metadata": {
    "scrolled": true
   },
   "outputs": [
    {
     "name": "stdout",
     "output_type": "stream",
     "text": [
      "[500] Accuracy: 79.76%, BalancedAccuracy: 72.89%, GeometricMean: 69.86%, CohenKappa: 50.18%\n",
      "[1,000] Accuracy: 83.60%, BalancedAccuracy: 75.91%, GeometricMean: 72.37%, CohenKappa: 58.36%\n",
      "[1,500] Accuracy: 78.80%, BalancedAccuracy: 76.25%, GeometricMean: 75.74%, CohenKappa: 53.18%\n",
      "[2,000] Accuracy: 87.00%, BalancedAccuracy: 90.15%, GeometricMean: 89.61%, CohenKappa: 73.49%\n",
      "[2,500] Accuracy: 83.20%, BalancedAccuracy: 87.61%, GeometricMean: 86.73%, CohenKappa: 66.16%\n",
      "[3,000] Accuracy: 88.60%, BalancedAccuracy: 91.44%, GeometricMean: 91.04%, CohenKappa: 76.38%\n",
      "[3,500] Accuracy: 89.00%, BalancedAccuracy: 91.51%, GeometricMean: 91.28%, CohenKappa: 76.29%\n",
      "[4,000] Accuracy: 91.40%, BalancedAccuracy: 92.69%, GeometricMean: 92.63%, CohenKappa: 81.10%\n",
      "[4,500] Accuracy: 89.80%, BalancedAccuracy: 91.43%, GeometricMean: 91.29%, CohenKappa: 78.43%\n",
      "[5,000] Accuracy: 90.80%, BalancedAccuracy: 92.17%, GeometricMean: 92.07%, CohenKappa: 80.49%\n",
      "[5,500] Accuracy: 55.20%, BalancedAccuracy: 55.87%, GeometricMean: 55.74%, CohenKappa: 11.27%\n",
      "[6,000] Accuracy: 58.40%, BalancedAccuracy: 58.48%, GeometricMean: 58.48%, CohenKappa: 16.30%\n",
      "[6,500] Accuracy: 63.60%, BalancedAccuracy: 60.31%, GeometricMean: 59.00%, CohenKappa: 20.85%\n",
      "[7,000] Accuracy: 66.60%, BalancedAccuracy: 63.29%, GeometricMean: 61.40%, CohenKappa: 27.50%\n",
      "[7,500] Accuracy: 67.20%, BalancedAccuracy: 64.53%, GeometricMean: 62.87%, CohenKappa: 29.97%\n",
      "[8,000] Accuracy: 74.20%, BalancedAccuracy: 68.95%, GeometricMean: 65.73%, CohenKappa: 40.76%\n",
      "[8,500] Accuracy: 78.60%, BalancedAccuracy: 76.83%, GeometricMean: 76.51%, CohenKappa: 53.95%\n",
      "[9,000] Accuracy: 84.80%, BalancedAccuracy: 84.31%, GeometricMean: 84.28%, CohenKappa: 67.88%\n",
      "[9,500] Accuracy: 84.00%, BalancedAccuracy: 84.06%, GeometricMean: 84.06%, CohenKappa: 67.07%\n",
      "[10,000] Accuracy: 84.00%, BalancedAccuracy: 84.20%, GeometricMean: 84.20%, CohenKappa: 67.04%\n",
      "[10,500] Accuracy: 62.20%, BalancedAccuracy: 62.67%, GeometricMean: 62.65%, CohenKappa: 22.97%\n",
      "[11,000] Accuracy: 62.20%, BalancedAccuracy: 68.68%, GeometricMean: 65.92%, CohenKappa: 30.47%\n",
      "[11,500] Accuracy: 65.60%, BalancedAccuracy: 73.21%, GeometricMean: 68.13%, CohenKappa: 38.28%\n",
      "[12,000] Accuracy: 64.00%, BalancedAccuracy: 72.81%, GeometricMean: 67.54%, CohenKappa: 36.19%\n",
      "[12,500] Accuracy: 69.20%, BalancedAccuracy: 77.15%, GeometricMean: 73.69%, CohenKappa: 43.65%\n",
      "[13,000] Accuracy: 69.20%, BalancedAccuracy: 77.01%, GeometricMean: 73.51%, CohenKappa: 43.68%\n",
      "[13,500] Accuracy: 74.60%, BalancedAccuracy: 81.70%, GeometricMean: 79.62%, CohenKappa: 51.46%\n",
      "[14,000] Accuracy: 75.80%, BalancedAccuracy: 82.15%, GeometricMean: 80.19%, CohenKappa: 53.71%\n",
      "[14,500] Accuracy: 76.20%, BalancedAccuracy: 82.13%, GeometricMean: 80.16%, CohenKappa: 54.57%\n",
      "[15,000] Accuracy: 78.00%, BalancedAccuracy: 82.68%, GeometricMean: 81.20%, CohenKappa: 57.48%\n",
      "[15,500] Accuracy: 49.80%, BalancedAccuracy: 50.64%, GeometricMean: 50.41%, CohenKappa: 1.23%\n",
      "[16,000] Accuracy: 57.40%, BalancedAccuracy: 58.20%, GeometricMean: 58.05%, CohenKappa: 15.64%\n",
      "[16,500] Accuracy: 59.40%, BalancedAccuracy: 59.13%, GeometricMean: 59.12%, CohenKappa: 17.06%\n",
      "[17,000] Accuracy: 58.00%, BalancedAccuracy: 57.31%, GeometricMean: 57.24%, CohenKappa: 14.07%\n",
      "[17,500] Accuracy: 61.60%, BalancedAccuracy: 61.80%, GeometricMean: 61.80%, CohenKappa: 22.84%\n",
      "[18,000] Accuracy: 66.40%, BalancedAccuracy: 65.36%, GeometricMean: 65.23%, CohenKappa: 29.93%\n",
      "[18,500] Accuracy: 61.60%, BalancedAccuracy: 60.71%, GeometricMean: 60.64%, CohenKappa: 20.15%\n",
      "[19,000] Accuracy: 69.80%, BalancedAccuracy: 68.44%, GeometricMean: 68.17%, CohenKappa: 36.71%\n",
      "[19,500] Accuracy: 70.20%, BalancedAccuracy: 69.48%, GeometricMean: 69.42%, CohenKappa: 37.92%\n",
      "[20,000] Accuracy: 66.40%, BalancedAccuracy: 67.02%, GeometricMean: 66.97%, CohenKappa: 32.35%\n"
     ]
    },
    {
     "data": {
      "text/plain": [
       "Accuracy: 66.40%, BalancedAccuracy: 67.02%, GeometricMean: 66.97%, CohenKappa: 32.35%"
      ]
     },
     "execution_count": 15,
     "metadata": {},
     "output_type": "execute_result"
    }
   ],
   "source": [
    "from river.tree import HoeffdingTreeClassifier\n",
    "\n",
    "model = HoeffdingTreeClassifier(nominal_attributes=['elevel', 'car', 'zipcode'])\n",
    "metrics = Rolling(Metrics(metrics=[Accuracy(),BalancedAccuracy(),GeometricMean(),CohenKappa()]),window_size=500)\n",
    "stream = iter_pandas(X=data[features], y=data['class'])\n",
    "\n",
    "progressive_val_score(dataset=stream,\n",
    "                      model=model,\n",
    "                      metric=metrics,\n",
    "                      print_every=500)\n"
   ]
  },
  {
   "cell_type": "markdown",
   "metadata": {},
   "source": [
    "## Hoeffding Adaptive Tree"
   ]
  },
  {
   "cell_type": "code",
   "execution_count": 16,
   "metadata": {
    "scrolled": true
   },
   "outputs": [
    {
     "name": "stdout",
     "output_type": "stream",
     "text": [
      "[500] Accuracy: 81.36%, BalancedAccuracy: 74.69%, GeometricMean: 71.90%, CohenKappa: 54.12%\n",
      "[1,000] Accuracy: 83.80%, BalancedAccuracy: 78.03%, GeometricMean: 76.11%, CohenKappa: 60.55%\n",
      "[1,500] Accuracy: 90.40%, BalancedAccuracy: 91.92%, GeometricMean: 91.77%, CohenKappa: 80.02%\n",
      "[2,000] Accuracy: 91.80%, BalancedAccuracy: 92.79%, GeometricMean: 92.74%, CohenKappa: 82.41%\n",
      "[2,500] Accuracy: 90.60%, BalancedAccuracy: 92.74%, GeometricMean: 92.55%, CohenKappa: 79.88%\n",
      "[3,000] Accuracy: 92.20%, BalancedAccuracy: 93.55%, GeometricMean: 93.46%, CohenKappa: 83.24%\n",
      "[3,500] Accuracy: 93.00%, BalancedAccuracy: 94.40%, GeometricMean: 94.33%, CohenKappa: 84.39%\n",
      "[4,000] Accuracy: 95.20%, BalancedAccuracy: 96.49%, GeometricMean: 96.43%, CohenKappa: 89.33%\n",
      "[4,500] Accuracy: 92.20%, BalancedAccuracy: 93.10%, GeometricMean: 93.05%, CohenKappa: 83.18%\n",
      "[5,000] Accuracy: 92.40%, BalancedAccuracy: 93.94%, GeometricMean: 93.82%, CohenKappa: 83.88%\n",
      "[5,500] Accuracy: 50.60%, BalancedAccuracy: 52.76%, GeometricMean: 51.31%, CohenKappa: 5.14%\n",
      "[6,000] Accuracy: 48.60%, BalancedAccuracy: 50.84%, GeometricMean: 49.73%, CohenKappa: 1.54%\n",
      "[6,500] Accuracy: 49.20%, BalancedAccuracy: 50.84%, GeometricMean: 50.46%, CohenKappa: 1.52%\n",
      "[7,000] Accuracy: 56.20%, BalancedAccuracy: 56.19%, GeometricMean: 56.19%, CohenKappa: 11.87%\n",
      "[7,500] Accuracy: 67.00%, BalancedAccuracy: 68.93%, GeometricMean: 68.13%, CohenKappa: 35.66%\n",
      "[8,000] Accuracy: 66.80%, BalancedAccuracy: 71.01%, GeometricMean: 69.02%, CohenKappa: 37.21%\n",
      "[8,500] Accuracy: 71.20%, BalancedAccuracy: 74.55%, GeometricMean: 73.39%, CohenKappa: 44.34%\n",
      "[9,000] Accuracy: 74.00%, BalancedAccuracy: 77.19%, GeometricMean: 76.14%, CohenKappa: 49.48%\n",
      "[9,500] Accuracy: 80.00%, BalancedAccuracy: 79.88%, GeometricMean: 79.88%, CohenKappa: 58.84%\n",
      "[10,000] Accuracy: 85.20%, BalancedAccuracy: 85.28%, GeometricMean: 85.28%, CohenKappa: 69.40%\n",
      "[10,500] Accuracy: 62.60%, BalancedAccuracy: 62.67%, GeometricMean: 62.67%, CohenKappa: 23.16%\n",
      "[11,000] Accuracy: 87.40%, BalancedAccuracy: 90.27%, GeometricMean: 89.86%, CohenKappa: 73.92%\n",
      "[11,500] Accuracy: 89.80%, BalancedAccuracy: 91.19%, GeometricMean: 91.06%, CohenKappa: 78.78%\n",
      "[12,000] Accuracy: 89.60%, BalancedAccuracy: 91.28%, GeometricMean: 91.13%, CohenKappa: 78.03%\n",
      "[12,500] Accuracy: 90.00%, BalancedAccuracy: 92.26%, GeometricMean: 92.04%, CohenKappa: 78.79%\n",
      "[13,000] Accuracy: 90.80%, BalancedAccuracy: 92.52%, GeometricMean: 92.38%, CohenKappa: 80.34%\n",
      "[13,500] Accuracy: 93.20%, BalancedAccuracy: 94.55%, GeometricMean: 94.49%, CohenKappa: 84.77%\n",
      "[14,000] Accuracy: 94.80%, BalancedAccuracy: 96.00%, GeometricMean: 95.94%, CohenKappa: 88.54%\n",
      "[14,500] Accuracy: 92.40%, BalancedAccuracy: 93.40%, GeometricMean: 93.35%, CohenKappa: 83.56%\n",
      "[15,000] Accuracy: 92.40%, BalancedAccuracy: 93.49%, GeometricMean: 93.42%, CohenKappa: 83.89%\n",
      "[15,500] Accuracy: 52.60%, BalancedAccuracy: 54.24%, GeometricMean: 53.40%, CohenKappa: 7.99%\n",
      "[16,000] Accuracy: 73.00%, BalancedAccuracy: 74.24%, GeometricMean: 73.96%, CohenKappa: 46.37%\n",
      "[16,500] Accuracy: 72.40%, BalancedAccuracy: 75.06%, GeometricMean: 74.51%, CohenKappa: 45.37%\n",
      "[17,000] Accuracy: 79.20%, BalancedAccuracy: 77.99%, GeometricMean: 77.83%, CohenKappa: 55.86%\n",
      "[17,500] Accuracy: 82.60%, BalancedAccuracy: 83.25%, GeometricMean: 83.18%, CohenKappa: 64.79%\n",
      "[18,000] Accuracy: 80.80%, BalancedAccuracy: 82.19%, GeometricMean: 82.01%, CohenKappa: 61.04%\n",
      "[18,500] Accuracy: 76.60%, BalancedAccuracy: 79.66%, GeometricMean: 79.04%, CohenKappa: 53.43%\n",
      "[19,000] Accuracy: 82.40%, BalancedAccuracy: 84.21%, GeometricMean: 83.82%, CohenKappa: 64.86%\n",
      "[19,500] Accuracy: 79.40%, BalancedAccuracy: 81.41%, GeometricMean: 81.03%, CohenKappa: 58.76%\n",
      "[20,000] Accuracy: 78.20%, BalancedAccuracy: 79.66%, GeometricMean: 79.42%, CohenKappa: 56.23%\n"
     ]
    },
    {
     "data": {
      "text/plain": [
       "Accuracy: 78.20%, BalancedAccuracy: 79.66%, GeometricMean: 79.42%, CohenKappa: 56.23%"
      ]
     },
     "execution_count": 16,
     "metadata": {},
     "output_type": "execute_result"
    }
   ],
   "source": [
    "from river.tree import HoeffdingAdaptiveTreeClassifier\n",
    "\n",
    "model = HoeffdingAdaptiveTreeClassifier(nominal_attributes=['elevel', 'car', 'zipcode'], seed=42)\n",
    "metrics = Rolling(Metrics(metrics=[Accuracy(),BalancedAccuracy(),GeometricMean(),CohenKappa()]),window_size=500)\n",
    "stream = iter_pandas(X=data[features], y=data['class'])\n",
    "\n",
    "progressive_val_score(dataset=stream, \n",
    "                      model=model, \n",
    "                      metric=metrics, \n",
    "                      print_every=500)"
   ]
  },
  {
   "cell_type": "markdown",
   "metadata": {},
   "source": [
    "## AdaptiveRandomForest"
   ]
  },
  {
   "cell_type": "code",
   "execution_count": 24,
   "metadata": {
    "scrolled": true
   },
   "outputs": [
    {
     "name": "stdout",
     "output_type": "stream",
     "text": [
      "[500] Accuracy: 71.94%, BalancedAccuracy: 65.23%, GeometricMean: 61.98%, CohenKappa: 32.59%\n",
      "[1,000] Accuracy: 78.60%, BalancedAccuracy: 72.77%, GeometricMean: 70.67%, CohenKappa: 48.56%\n",
      "[1,500] Accuracy: 79.20%, BalancedAccuracy: 73.30%, GeometricMean: 70.38%, CohenKappa: 50.67%\n",
      "[2,000] Accuracy: 80.40%, BalancedAccuracy: 73.74%, GeometricMean: 70.75%, CohenKappa: 52.09%\n",
      "[2,500] Accuracy: 80.40%, BalancedAccuracy: 72.83%, GeometricMean: 69.65%, CohenKappa: 50.42%\n",
      "[3,000] Accuracy: 82.20%, BalancedAccuracy: 75.44%, GeometricMean: 72.65%, CohenKappa: 55.98%\n",
      "[3,500] Accuracy: 82.40%, BalancedAccuracy: 74.85%, GeometricMean: 72.22%, CohenKappa: 54.62%\n",
      "[4,000] Accuracy: 87.60%, BalancedAccuracy: 82.42%, GeometricMean: 81.21%, CohenKappa: 69.33%\n",
      "[4,500] Accuracy: 85.20%, BalancedAccuracy: 80.57%, GeometricMean: 79.29%, CohenKappa: 64.89%\n",
      "[5,000] Accuracy: 83.80%, BalancedAccuracy: 77.86%, GeometricMean: 75.56%, CohenKappa: 60.75%\n",
      "[5,500] Accuracy: 49.20%, BalancedAccuracy: 53.10%, GeometricMean: 48.26%, CohenKappa: 5.58%\n",
      "[6,000] Accuracy: 55.20%, BalancedAccuracy: 54.07%, GeometricMean: 53.80%, CohenKappa: 7.98%\n",
      "[6,500] Accuracy: 64.20%, BalancedAccuracy: 57.49%, GeometricMean: 51.56%, CohenKappa: 16.29%\n",
      "[7,000] Accuracy: 65.00%, BalancedAccuracy: 58.80%, GeometricMean: 51.32%, CohenKappa: 19.34%\n",
      "[7,500] Accuracy: 64.20%, BalancedAccuracy: 59.78%, GeometricMean: 54.76%, CohenKappa: 20.89%\n",
      "[8,000] Accuracy: 66.40%, BalancedAccuracy: 59.92%, GeometricMean: 54.13%, CohenKappa: 21.67%\n",
      "[8,500] Accuracy: 65.40%, BalancedAccuracy: 59.30%, GeometricMean: 54.31%, CohenKappa: 20.08%\n",
      "[9,000] Accuracy: 62.00%, BalancedAccuracy: 55.23%, GeometricMean: 48.24%, CohenKappa: 11.41%\n",
      "[9,500] Accuracy: 63.20%, BalancedAccuracy: 57.71%, GeometricMean: 51.32%, CohenKappa: 16.70%\n",
      "[10,000] Accuracy: 62.40%, BalancedAccuracy: 56.51%, GeometricMean: 49.77%, CohenKappa: 14.15%\n",
      "[10,500] Accuracy: 40.20%, BalancedAccuracy: 47.64%, GeometricMean: 42.04%, CohenKappa: -3.64%\n",
      "[11,000] Accuracy: 48.00%, BalancedAccuracy: 52.59%, GeometricMean: 50.79%, CohenKappa: 4.24%\n",
      "[11,500] Accuracy: 53.60%, BalancedAccuracy: 55.71%, GeometricMean: 55.21%, CohenKappa: 10.16%\n",
      "[12,000] Accuracy: 60.00%, BalancedAccuracy: 57.77%, GeometricMean: 57.36%, CohenKappa: 14.81%\n",
      "[12,500] Accuracy: 67.60%, BalancedAccuracy: 60.44%, GeometricMean: 56.84%, CohenKappa: 22.07%\n",
      "[13,000] Accuracy: 75.40%, BalancedAccuracy: 68.57%, GeometricMean: 65.56%, CohenKappa: 40.04%\n",
      "[13,500] Accuracy: 75.20%, BalancedAccuracy: 64.96%, GeometricMean: 59.35%, CohenKappa: 33.88%\n",
      "[14,000] Accuracy: 73.80%, BalancedAccuracy: 65.02%, GeometricMean: 60.17%, CohenKappa: 33.37%\n",
      "[14,500] Accuracy: 75.00%, BalancedAccuracy: 66.90%, GeometricMean: 62.30%, CohenKappa: 37.56%\n",
      "[15,000] Accuracy: 73.80%, BalancedAccuracy: 66.79%, GeometricMean: 62.57%, CohenKappa: 36.84%\n",
      "[15,500] Accuracy: 48.20%, BalancedAccuracy: 52.68%, GeometricMean: 45.78%, CohenKappa: 4.79%\n",
      "[16,000] Accuracy: 50.80%, BalancedAccuracy: 51.71%, GeometricMean: 51.49%, CohenKappa: 3.23%\n",
      "[16,500] Accuracy: 59.40%, BalancedAccuracy: 52.49%, GeometricMean: 46.85%, CohenKappa: 5.31%\n",
      "[17,000] Accuracy: 64.80%, BalancedAccuracy: 59.56%, GeometricMean: 55.56%, CohenKappa: 20.35%\n",
      "[17,500] Accuracy: 64.80%, BalancedAccuracy: 60.98%, GeometricMean: 57.65%, CohenKappa: 23.10%\n",
      "[18,000] Accuracy: 69.00%, BalancedAccuracy: 63.59%, GeometricMean: 59.98%, CohenKappa: 29.07%\n",
      "[18,500] Accuracy: 68.80%, BalancedAccuracy: 62.94%, GeometricMean: 60.00%, CohenKappa: 27.30%\n",
      "[19,000] Accuracy: 67.00%, BalancedAccuracy: 62.19%, GeometricMean: 58.37%, CohenKappa: 25.97%\n",
      "[19,500] Accuracy: 65.80%, BalancedAccuracy: 59.62%, GeometricMean: 54.52%, CohenKappa: 20.82%\n",
      "[20,000] Accuracy: 69.60%, BalancedAccuracy: 63.31%, GeometricMean: 57.42%, CohenKappa: 29.25%\n"
     ]
    },
    {
     "data": {
      "text/plain": [
       "Accuracy: 69.60%, BalancedAccuracy: 63.31%, GeometricMean: 57.42%, CohenKappa: 29.25%"
      ]
     },
     "execution_count": 24,
     "metadata": {},
     "output_type": "execute_result"
    }
   ],
   "source": [
    "from river.forest import ARFClassifier\n",
    "\n",
    "model = ARFClassifier(n_models=10,nominal_attributes=['elevel', 'car', 'zipcode'])\n",
    "metrics = Rolling(Metrics(metrics=[Accuracy(),BalancedAccuracy(),GeometricMean(),CohenKappa()]),window_size=500)\n",
    "stream = iter_pandas(X=data[features], y=data['class'])\n",
    "\n",
    "progressive_val_score(dataset=stream,\n",
    "                      model=model,\n",
    "                      metric=metrics,\n",
    "                      print_every=500)"
   ]
  },
  {
   "cell_type": "markdown",
   "metadata": {},
   "source": [
    "## StreamingRandomPatches\n",
    "---\n",
    "We set the drift and warning detection options"
   ]
  },
  {
   "cell_type": "code",
   "execution_count": 25,
   "metadata": {
    "scrolled": true
   },
   "outputs": [
    {
     "name": "stdout",
     "output_type": "stream",
     "text": [
      "[500] Accuracy: 88.58%, BalancedAccuracy: 85.31%, GeometricMean: 84.74%, CohenKappa: 73.36%\n",
      "[1,000] Accuracy: 94.20%, BalancedAccuracy: 93.08%, GeometricMean: 93.02%, CohenKappa: 86.82%\n",
      "[1,500] Accuracy: 93.40%, BalancedAccuracy: 92.11%, GeometricMean: 92.00%, CohenKappa: 85.40%\n",
      "[2,000] Accuracy: 94.60%, BalancedAccuracy: 93.48%, GeometricMean: 93.42%, CohenKappa: 87.85%\n",
      "[2,500] Accuracy: 93.60%, BalancedAccuracy: 93.00%, GeometricMean: 92.98%, CohenKappa: 85.44%\n",
      "[3,000] Accuracy: 93.80%, BalancedAccuracy: 92.81%, GeometricMean: 92.76%, CohenKappa: 86.00%\n",
      "[3,500] Accuracy: 93.60%, BalancedAccuracy: 93.03%, GeometricMean: 93.02%, CohenKappa: 85.15%\n",
      "[4,000] Accuracy: 96.20%, BalancedAccuracy: 96.03%, GeometricMean: 96.03%, CohenKappa: 91.28%\n",
      "[4,500] Accuracy: 93.60%, BalancedAccuracy: 92.56%, GeometricMean: 92.50%, CohenKappa: 85.62%\n",
      "[5,000] Accuracy: 93.80%, BalancedAccuracy: 92.90%, GeometricMean: 92.86%, CohenKappa: 86.17%\n",
      "[5,500] Accuracy: 57.60%, BalancedAccuracy: 56.61%, GeometricMean: 56.33%, CohenKappa: 13.12%\n",
      "[6,000] Accuracy: 60.80%, BalancedAccuracy: 54.60%, GeometricMean: 46.13%, CohenKappa: 10.09%\n",
      "[6,500] Accuracy: 63.40%, BalancedAccuracy: 53.79%, GeometricMean: 39.60%, CohenKappa: 8.79%\n",
      "[7,000] Accuracy: 61.60%, BalancedAccuracy: 53.38%, GeometricMean: 37.41%, CohenKappa: 7.73%\n",
      "[7,500] Accuracy: 58.80%, BalancedAccuracy: 52.18%, GeometricMean: 37.77%, CohenKappa: 4.86%\n",
      "[8,000] Accuracy: 67.40%, BalancedAccuracy: 59.75%, GeometricMean: 51.48%, CohenKappa: 21.89%\n",
      "[8,500] Accuracy: 68.00%, BalancedAccuracy: 59.40%, GeometricMean: 48.99%, CohenKappa: 21.54%\n",
      "[9,000] Accuracy: 63.80%, BalancedAccuracy: 53.86%, GeometricMean: 36.70%, CohenKappa: 9.09%\n",
      "[9,500] Accuracy: 64.20%, BalancedAccuracy: 57.06%, GeometricMean: 45.57%, CohenKappa: 15.87%\n",
      "[10,000] Accuracy: 65.40%, BalancedAccuracy: 57.77%, GeometricMean: 46.19%, CohenKappa: 17.60%\n",
      "[10,500] Accuracy: 45.40%, BalancedAccuracy: 53.04%, GeometricMean: 47.79%, CohenKappa: 4.72%\n",
      "[11,000] Accuracy: 73.60%, BalancedAccuracy: 73.42%, GeometricMean: 73.42%, CohenKappa: 44.04%\n",
      "[11,500] Accuracy: 88.20%, BalancedAccuracy: 84.88%, GeometricMean: 84.07%, CohenKappa: 73.10%\n",
      "[12,000] Accuracy: 86.40%, BalancedAccuracy: 80.90%, GeometricMean: 79.09%, CohenKappa: 67.03%\n",
      "[12,500] Accuracy: 81.40%, BalancedAccuracy: 74.16%, GeometricMean: 71.19%, CohenKappa: 53.31%\n",
      "[13,000] Accuracy: 77.00%, BalancedAccuracy: 65.61%, GeometricMean: 56.42%, CohenKappa: 37.51%\n",
      "[13,500] Accuracy: 71.60%, BalancedAccuracy: 54.51%, GeometricMean: 32.10%, CohenKappa: 11.88%\n",
      "[14,000] Accuracy: 69.20%, BalancedAccuracy: 52.34%, GeometricMean: 22.26%, CohenKappa: 6.21%\n",
      "[14,500] Accuracy: 68.20%, BalancedAccuracy: 52.40%, GeometricMean: 21.89%, CohenKappa: 6.28%\n",
      "[15,000] Accuracy: 65.20%, BalancedAccuracy: 50.55%, GeometricMean: 13.05%, CohenKappa: 1.42%\n",
      "[15,500] Accuracy: 56.00%, BalancedAccuracy: 60.12%, GeometricMean: 55.15%, CohenKappa: 18.24%\n",
      "[16,000] Accuracy: 69.80%, BalancedAccuracy: 67.49%, GeometricMean: 66.40%, CohenKappa: 35.80%\n",
      "[16,500] Accuracy: 73.80%, BalancedAccuracy: 68.23%, GeometricMean: 65.51%, CohenKappa: 38.89%\n",
      "[17,000] Accuracy: 71.60%, BalancedAccuracy: 65.65%, GeometricMean: 60.96%, CohenKappa: 34.14%\n",
      "[17,500] Accuracy: 68.00%, BalancedAccuracy: 62.95%, GeometricMean: 57.18%, CohenKappa: 28.04%\n",
      "[18,000] Accuracy: 68.00%, BalancedAccuracy: 59.84%, GeometricMean: 50.64%, CohenKappa: 22.32%\n",
      "[18,500] Accuracy: 69.20%, BalancedAccuracy: 58.21%, GeometricMean: 46.00%, CohenKappa: 19.44%\n",
      "[19,000] Accuracy: 66.00%, BalancedAccuracy: 57.41%, GeometricMean: 42.73%, CohenKappa: 17.15%\n",
      "[19,500] Accuracy: 65.60%, BalancedAccuracy: 56.28%, GeometricMean: 42.94%, CohenKappa: 14.58%\n",
      "[20,000] Accuracy: 65.00%, BalancedAccuracy: 55.39%, GeometricMean: 37.54%, CohenKappa: 12.69%\n"
     ]
    },
    {
     "data": {
      "text/plain": [
       "Accuracy: 65.00%, BalancedAccuracy: 55.39%, GeometricMean: 37.54%, CohenKappa: 12.69%"
      ]
     },
     "execution_count": 25,
     "metadata": {},
     "output_type": "execute_result"
    }
   ],
   "source": [
    "from river.ensemble import SRPClassifier\n",
    "from river.tree import HoeffdingTreeClassifier\n",
    "from river.drift import ADWIN\n",
    "\n",
    "model = SRPClassifier(model=HoeffdingTreeClassifier(nominal_attributes=['elevel', 'car', 'zipcode']),\n",
    "                      n_models=10,\n",
    "                      drift_detector=ADWIN(delta=0.001),\n",
    "                      warning_detector=ADWIN(delta=0.01),\n",
    "                      seed=42)\n",
    "\n",
    "metrics = Rolling(Metrics(metrics=[Accuracy(),BalancedAccuracy(),GeometricMean(),CohenKappa()]),window_size=500)\n",
    "stream = iter_pandas(X=data[features], y=data['class'])\n",
    "\n",
    "progressive_val_score(dataset=stream, \n",
    "                      model=model, \n",
    "                      metric=metrics, \n",
    "                      print_every=500)"
   ]
  }
 ],
 "metadata": {
  "kernelspec": {
   "display_name": "Python 3 (ipykernel)",
   "language": "python",
   "name": "python3"
  },
  "language_info": {
   "codemirror_mode": {
    "name": "ipython",
    "version": 3
   },
   "file_extension": ".py",
   "mimetype": "text/x-python",
   "name": "python",
   "nbconvert_exporter": "python",
   "pygments_lexer": "ipython3",
   "version": "3.11.5"
  }
 },
 "nbformat": 4,
 "nbformat_minor": 4
}
